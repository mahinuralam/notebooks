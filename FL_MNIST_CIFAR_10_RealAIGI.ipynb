{
  "metadata": {
    "kernelspec": {
      "language": "python",
      "display_name": "Python 3",
      "name": "python3"
    },
    "language_info": {
      "name": "python",
      "version": "3.7.10",
      "mimetype": "text/x-python",
      "codemirror_mode": {
        "name": "ipython",
        "version": 3
      },
      "pygments_lexer": "ipython3",
      "nbconvert_exporter": "python",
      "file_extension": ".py"
    },
    "kaggle": {
      "accelerator": "gpu",
      "dataSources": [
        {
          "sourceId": 3649,
          "databundleVersionId": 46718,
          "sourceType": "competition"
        },
        {
          "sourceId": 2280,
          "sourceType": "datasetVersion",
          "datasetId": 1272
        },
        {
          "sourceId": 283795,
          "sourceType": "datasetVersion",
          "datasetId": 118250
        }
      ],
      "dockerImageVersionId": 30097,
      "isInternetEnabled": true,
      "language": "python",
      "sourceType": "notebook",
      "isGpuEnabled": true
    },
    "colab": {
      "name": "FL - MNIST / CIFAR-10 / RealAIGI",
      "provenance": [],
      "include_colab_link": true
    }
  },
  "nbformat_minor": 0,
  "nbformat": 4,
  "cells": [
    {
      "cell_type": "markdown",
      "metadata": {
        "id": "view-in-github",
        "colab_type": "text"
      },
      "source": [
        "<a href=\"https://colab.research.google.com/github/mahinuralam/notebooks/blob/main/FL_MNIST_CIFAR_10_RealAIGI.ipynb\" target=\"_parent\"><img src=\"https://colab.research.google.com/assets/colab-badge.svg\" alt=\"Open In Colab\"/></a>"
      ]
    },
    {
      "source": [
        "\n",
        "# IMPORTANT: RUN THIS CELL IN ORDER TO IMPORT YOUR KAGGLE DATA SOURCES\n",
        "# TO THE CORRECT LOCATION (/kaggle/input) IN YOUR NOTEBOOK,\n",
        "# THEN FEEL FREE TO DELETE THIS CELL.\n",
        "# NOTE: THIS NOTEBOOK ENVIRONMENT DIFFERS FROM KAGGLE'S PYTHON\n",
        "# ENVIRONMENT SO THERE MAY BE MISSING LIBRARIES USED BY YOUR\n",
        "# NOTEBOOK.\n",
        "\n",
        "import os\n",
        "import sys\n",
        "from tempfile import NamedTemporaryFile\n",
        "from urllib.request import urlopen\n",
        "from urllib.parse import unquote, urlparse\n",
        "from urllib.error import HTTPError\n",
        "from zipfile import ZipFile\n",
        "import tarfile\n",
        "import shutil\n",
        "\n",
        "CHUNK_SIZE = 40960\n",
        "DATA_SOURCE_MAPPING = 'cifar-10:https%3A%2F%2Fstorage.googleapis.com%2Fkaggle-competitions-data%2Fkaggle-v2%2F3649%2F46718%2Fbundle%2Farchive.zip%3FX-Goog-Algorithm%3DGOOG4-RSA-SHA256%26X-Goog-Credential%3Dgcp-kaggle-com%2540kaggle-161607.iam.gserviceaccount.com%252F20240816%252Fauto%252Fstorage%252Fgoog4_request%26X-Goog-Date%3D20240816T070648Z%26X-Goog-Expires%3D259200%26X-Goog-SignedHeaders%3Dhost%26X-Goog-Signature%3D5fa87b5f48559859c95f789c67a58bde4f2794cdca99f655cc1ed21266b437412c277ffe183c60f47952a6ff0ed95db2f049e269447c81631eb996021f540cac4097d216b1cd2fd2a000ed0f765e1d201363e95c33e4cf212d1f7ee4e1ff206998592a572a3e6bb110db8f2ac0ded855496eac162a57fe18ea25314b9b4db64cacc0eaa7e4f94506b8f7c04a3b6932404892b0c122a19f9458a1ef9ce2ce5a1881e4892a092e30edd5d32b92a502b44f4e0575343e54fbabf85fdd327553960caadc1c376d7f1bdefe9f13c583ae7181679f8fe2dea08880a73971d2b47e55c09c780e0ae7da481c23fe48c751c0fa89193e33f4e7e38ce5e417ac031d78a2d2,mnistasjpg:https%3A%2F%2Fstorage.googleapis.com%2Fkaggle-data-sets%2F1272%2F2280%2Fbundle%2Farchive.zip%3FX-Goog-Algorithm%3DGOOG4-RSA-SHA256%26X-Goog-Credential%3Dgcp-kaggle-com%2540kaggle-161607.iam.gserviceaccount.com%252F20240816%252Fauto%252Fstorage%252Fgoog4_request%26X-Goog-Date%3D20240816T070648Z%26X-Goog-Expires%3D259200%26X-Goog-SignedHeaders%3Dhost%26X-Goog-Signature%3D4ecaf175f58d005d870c0e4f735831049e4d7eeed3331eb3bd55388945ed5106464e38d443124523c9fc20bff4454c5b3f9bfa74389260c27625bd88d0142aea15b99aa341de0784f78e685327f9e74f51e1299e0f61a814712af869751d9d5379d6aa8e74449f12b2168471093c519181e1c07dc097218bab382d2be8cc88f35e1e297018d8924d4d2fcdf3d088ff289ac1ffd320206dcee197a33cef961dab2101b73a1819026f276d06364ee916cd1d20fcc780679546dad88cadf483735f12e9a3f4ce9f63adf1a64c5a6e459faa2197f148eeef6a23d07e59b4c5cf4b7cd461f4f0f3762c9ceb1b4e9ce05bfcccc9d18429616171964279519895ae9307,cifar10-pngs-in-folders:https%3A%2F%2Fstorage.googleapis.com%2Fkaggle-data-sets%2F118250%2F283795%2Fbundle%2Farchive.zip%3FX-Goog-Algorithm%3DGOOG4-RSA-SHA256%26X-Goog-Credential%3Dgcp-kaggle-com%2540kaggle-161607.iam.gserviceaccount.com%252F20240816%252Fauto%252Fstorage%252Fgoog4_request%26X-Goog-Date%3D20240816T070648Z%26X-Goog-Expires%3D259200%26X-Goog-SignedHeaders%3Dhost%26X-Goog-Signature%3D6aa55deba5c22afea1e4f52f7e65cedd39c82aa8b572d5786387f54cafdf073de0213830d3e91e54c699513c82cd7fe7f05275cd3907b545d9b1ae550a5852892f9cd0a8876ae259aaf2c30b3d010bf783e048d9c75d283ed9b1fb898dbfddf4bf649beb1c320e103215852b9270c4f6c434977623439405a492071f3b1f51e8f8a4e554681d8c1bbb031c117a939c21269b5f855f422d2f6bf7f856bb480cb0ee2971b72824d2fe7fd965df4f053f4dda102cc05ae628d87d50ad9def7c73fa32f83d1ed82e7006e23630e3f65b65895266f50a5e961d8f8b03bbec6bc7a8132e7d2c886cbf5afc28e0ad095a2d053d721002f63b6f798f74533e7ff1ed8239'\n",
        "\n",
        "KAGGLE_INPUT_PATH='/kaggle/input'\n",
        "KAGGLE_WORKING_PATH='/kaggle/working'\n",
        "KAGGLE_SYMLINK='kaggle'\n",
        "\n",
        "!umount /kaggle/input/ 2> /dev/null\n",
        "shutil.rmtree('/kaggle/input', ignore_errors=True)\n",
        "os.makedirs(KAGGLE_INPUT_PATH, 0o777, exist_ok=True)\n",
        "os.makedirs(KAGGLE_WORKING_PATH, 0o777, exist_ok=True)\n",
        "\n",
        "try:\n",
        "  os.symlink(KAGGLE_INPUT_PATH, os.path.join(\"..\", 'input'), target_is_directory=True)\n",
        "except FileExistsError:\n",
        "  pass\n",
        "try:\n",
        "  os.symlink(KAGGLE_WORKING_PATH, os.path.join(\"..\", 'working'), target_is_directory=True)\n",
        "except FileExistsError:\n",
        "  pass\n",
        "\n",
        "for data_source_mapping in DATA_SOURCE_MAPPING.split(','):\n",
        "    directory, download_url_encoded = data_source_mapping.split(':')\n",
        "    download_url = unquote(download_url_encoded)\n",
        "    filename = urlparse(download_url).path\n",
        "    destination_path = os.path.join(KAGGLE_INPUT_PATH, directory)\n",
        "    try:\n",
        "        with urlopen(download_url) as fileres, NamedTemporaryFile() as tfile:\n",
        "            total_length = fileres.headers['content-length']\n",
        "            print(f'Downloading {directory}, {total_length} bytes compressed')\n",
        "            dl = 0\n",
        "            data = fileres.read(CHUNK_SIZE)\n",
        "            while len(data) > 0:\n",
        "                dl += len(data)\n",
        "                tfile.write(data)\n",
        "                done = int(50 * dl / int(total_length))\n",
        "                sys.stdout.write(f\"\\r[{'=' * done}{' ' * (50-done)}] {dl} bytes downloaded\")\n",
        "                sys.stdout.flush()\n",
        "                data = fileres.read(CHUNK_SIZE)\n",
        "            if filename.endswith('.zip'):\n",
        "              with ZipFile(tfile) as zfile:\n",
        "                zfile.extractall(destination_path)\n",
        "            else:\n",
        "              with tarfile.open(tfile.name) as tarfile:\n",
        "                tarfile.extractall(destination_path)\n",
        "            print(f'\\nDownloaded and uncompressed: {directory}')\n",
        "    except HTTPError as e:\n",
        "        print(f'Failed to load (likely expired) {download_url} to path {destination_path}')\n",
        "        continue\n",
        "    except OSError as e:\n",
        "        print(f'Failed to load {download_url} to path {destination_path}')\n",
        "        continue\n",
        "\n",
        "print('Data source import complete.')\n"
      ],
      "metadata": {
        "id": "zddn1mlWAqkh"
      },
      "cell_type": "code",
      "outputs": [],
      "execution_count": null
    },
    {
      "cell_type": "code",
      "source": [
        "import numpy as np\n",
        "import pandas as pd\n",
        "import random\n",
        "import cv2\n",
        "import os\n",
        "from tqdm import tqdm\n",
        "\n",
        "from sklearn.model_selection import train_test_split\n",
        "from sklearn.preprocessing import LabelBinarizer\n",
        "from sklearn.model_selection import train_test_split\n",
        "from sklearn.utils import shuffle\n",
        "from sklearn.metrics import accuracy_score\n",
        "\n",
        "import tensorflow as tf\n",
        "from tensorflow import expand_dims\n",
        "from tensorflow.keras.models import Sequential\n",
        "from tensorflow.keras.layers import Conv2D, Input, Lambda\n",
        "from tensorflow.keras.layers import MaxPooling2D\n",
        "from tensorflow.keras.layers import Activation\n",
        "from tensorflow.keras.layers import Flatten\n",
        "from tensorflow.keras.layers import Dense\n",
        "from tensorflow.keras.optimizers import SGD\n",
        "from tensorflow.keras import backend as K"
      ],
      "metadata": {
        "_uuid": "8f2839f25d086af736a60e9eeb907d3b93b6e0e5",
        "_cell_guid": "b1076dfc-b9ad-4769-8c92-a6c4dae69d19",
        "execution": {
          "iopub.status.busy": "2024-08-12T12:31:42.553757Z",
          "iopub.execute_input": "2024-08-12T12:31:42.554551Z",
          "iopub.status.idle": "2024-08-12T12:31:44.994003Z",
          "shell.execute_reply.started": "2024-08-12T12:31:42.554149Z",
          "shell.execute_reply": "2024-08-12T12:31:44.992959Z"
        },
        "trusted": true,
        "id": "-_UrpOMtAqkl"
      },
      "execution_count": null,
      "outputs": []
    },
    {
      "cell_type": "code",
      "source": [
        "!pip install imutils\n",
        "from imutils import paths"
      ],
      "metadata": {
        "execution": {
          "iopub.status.busy": "2024-08-12T12:31:44.999783Z",
          "iopub.execute_input": "2024-08-12T12:31:45.000094Z",
          "iopub.status.idle": "2024-08-12T12:31:53.202897Z",
          "shell.execute_reply.started": "2024-08-12T12:31:45.000059Z",
          "shell.execute_reply": "2024-08-12T12:31:53.201711Z"
        },
        "trusted": true,
        "id": "B9E5sNHGAqkl",
        "outputId": "4faf63f9-a928-430b-803e-cc230f4302fe"
      },
      "execution_count": null,
      "outputs": [
        {
          "name": "stdout",
          "text": "Requirement already satisfied: imutils in /opt/conda/lib/python3.7/site-packages (0.5.4)\n",
          "output_type": "stream"
        }
      ]
    },
    {
      "cell_type": "markdown",
      "source": [
        "### Todo\n",
        "\n",
        "create subset of clients\n",
        "\n",
        "- increase comm rounds 300\n",
        "- increase hidden units 400\n",
        "- increase no of layers\n",
        "- no of clients 20"
      ],
      "metadata": {
        "id": "UxgCSJRjAqkm"
      }
    },
    {
      "cell_type": "code",
      "source": [
        "debug = 0"
      ],
      "metadata": {
        "execution": {
          "iopub.status.busy": "2024-08-12T12:31:53.205328Z",
          "iopub.execute_input": "2024-08-12T12:31:53.205741Z",
          "iopub.status.idle": "2024-08-12T12:31:53.210382Z",
          "shell.execute_reply.started": "2024-08-12T12:31:53.205701Z",
          "shell.execute_reply": "2024-08-12T12:31:53.209373Z"
        },
        "trusted": true,
        "id": "oArpoKVFAqkn"
      },
      "execution_count": null,
      "outputs": []
    },
    {
      "cell_type": "code",
      "source": [
        "def load(paths, verbose=-1):\n",
        "    '''expects images for each class in seperate dir,\n",
        "    e.g all digits in 0 class in the directory named 0 '''\n",
        "    data = list()\n",
        "    labels = list()\n",
        "    # loop over the input images\n",
        "    for (i, imgpath) in enumerate(paths):\n",
        "        # load the image and extract the class labels\n",
        "        im_gray = cv2.imread(imgpath , cv2.IMREAD_GRAYSCALE)\n",
        "        image = np.array(im_gray).flatten() # cv2.imread(imgpath)\n",
        "        # print(image.shape)\n",
        "        label = imgpath.split(os.path.sep)[-2]\n",
        "        # scale the image to [0, 1] and add to list\n",
        "        data.append(image/255)\n",
        "        labels.append(label)\n",
        "        # show an update every `verbose` images\n",
        "        if verbose > 0 and i > 0 and (i + 1) % verbose == 0:\n",
        "            print(\"[INFO] processed {}/{}\".format(i + 1, len(paths)))\n",
        "    # return a tuple of the data and labels\n",
        "\n",
        "    return data, labels\n",
        "\n",
        "def create_clients(image_list, label_list, num_clients=10, initial='clients'):\n",
        "    ''' return: a dictionary with keys clients' names and value as\n",
        "                data shards - tuple of images and label lists.\n",
        "        args:\n",
        "            image_list: a list of numpy arrays of training images\n",
        "            label_list:a list of binarized labels for each image\n",
        "            num_client: number of fedrated members (clients)\n",
        "            initials: the clients'name prefix, e.g, clients_1\n",
        "\n",
        "    '''\n",
        "\n",
        "    #create a list of client names\n",
        "    client_names = ['{}_{}'.format(initial, i+1) for i in range(num_clients)]\n",
        "\n",
        "    #randomize the data\n",
        "    data = list(zip(image_list, label_list))\n",
        "    random.shuffle(data)  # <- IID\n",
        "\n",
        "    # sort data for non-iid\n",
        "#     max_y = np.argmax(label_list, axis=-1)\n",
        "#     sorted_zip = sorted(zip(max_y, label_list, image_list), key=lambda x: x[0])\n",
        "#     data = [(x,y) for _,y,x in sorted_zip]\n",
        "\n",
        "    #shard data and place at each client\n",
        "    size = len(data)//num_clients\n",
        "    shards = [data[i:i + size] for i in range(0, size*num_clients, size)]\n",
        "\n",
        "    #number of clients must equal number of shards\n",
        "    assert(len(shards) == len(client_names))\n",
        "\n",
        "    return {client_names[i] : shards[i] for i in range(len(client_names))}\n",
        "\n",
        "\n",
        "def batch_data(data_shard, bs=32):\n",
        "    '''Takes in a clients data shard and create a tfds object off it\n",
        "    args:\n",
        "        shard: a data, label constituting a client's data shard\n",
        "        bs:batch size\n",
        "    return:\n",
        "        tfds object'''\n",
        "    #seperate shard into data and labels lists\n",
        "    data, label = zip(*data_shard)\n",
        "    dataset = tf.data.Dataset.from_tensor_slices((list(data), list(label)))\n",
        "    return dataset.shuffle(len(label)).batch(bs)\n",
        "\n",
        "\n",
        "def weight_scalling_factor(clients_trn_data, client_name):\n",
        "    client_names = list(clients_trn_data.keys())\n",
        "    #get the bs\n",
        "    bs = list(clients_trn_data[client_name])[0][0].shape[0]\n",
        "    #first calculate the total training data points across clinets\n",
        "    global_count = sum([tf.data.experimental.cardinality(clients_trn_data[client_name]).numpy() for client_name in client_names])*bs\n",
        "    # get the total number of data points held by a client\n",
        "    local_count = tf.data.experimental.cardinality(clients_trn_data[client_name]).numpy()*bs\n",
        "\n",
        "\n",
        "    if debug:\n",
        "        print('global_count', global_count, 'local_count', local_count, 'bs', bs)\n",
        "\n",
        "    return local_count/global_count\n",
        "\n",
        "\n",
        "def scale_model_weights(weight, scalar):\n",
        "    '''function for scaling a models weights'''\n",
        "    weight_final = []\n",
        "    steps = len(weight)\n",
        "    for i in range(steps):\n",
        "        weight_final.append(scalar * weight[i])\n",
        "    return weight_final\n",
        "\n",
        "\n",
        "\n",
        "def sum_scaled_weights(scaled_weight_list):\n",
        "    '''Return the sum of the listed scaled weights. The is equivalent to scaled avg of the weights'''\n",
        "    avg_grad = list()\n",
        "    #get the average grad accross all client gradients\n",
        "    for grad_list_tuple in zip(*scaled_weight_list):\n",
        "        layer_mean = tf.math.reduce_sum(grad_list_tuple, axis=0)\n",
        "        avg_grad.append(layer_mean)\n",
        "\n",
        "    return avg_grad\n",
        "\n",
        "\n",
        "import time\n",
        "from sklearn.metrics import accuracy_score\n",
        "import tensorflow as tf\n",
        "\n",
        "import time\n",
        "\n",
        "# Initialize cumulative time tracker\n",
        "cumulative_time = 0\n",
        "\n",
        "def test_model(X_test, Y_test, model, comm_round):\n",
        "    global cumulative_time  # Ensure we're modifying the global cumulative time variable\n",
        "\n",
        "    # Start time measurement\n",
        "    start_time = time.time()\n",
        "\n",
        "    # Calculate loss and accuracy\n",
        "    cce = tf.keras.losses.CategoricalCrossentropy(from_logits=True)\n",
        "    logits = model.predict(X_test)\n",
        "    loss = cce(Y_test, logits)\n",
        "    acc = accuracy_score(tf.argmax(logits, axis=1), tf.argmax(Y_test, axis=1))\n",
        "\n",
        "    # End time measurement\n",
        "    end_time = time.time()\n",
        "\n",
        "    # Calculate elapsed time for this round\n",
        "    elapsed_time = end_time - start_time\n",
        "\n",
        "    # Update cumulative time\n",
        "    cumulative_time += elapsed_time\n",
        "\n",
        "    # Print results with cumulative time\n",
        "    print('comm_round: {} | global_acc: {:.3%} | global_loss: {} | cumulative_time: {:.2f} seconds'.format(\n",
        "        comm_round, acc, loss, cumulative_time))\n",
        "\n",
        "    return acc, loss\n",
        "\n",
        "\n"
      ],
      "metadata": {
        "execution": {
          "iopub.status.busy": "2024-08-12T12:31:53.212141Z",
          "iopub.execute_input": "2024-08-12T12:31:53.212602Z",
          "iopub.status.idle": "2024-08-12T12:31:53.241706Z",
          "shell.execute_reply.started": "2024-08-12T12:31:53.212556Z",
          "shell.execute_reply": "2024-08-12T12:31:53.240519Z"
        },
        "trusted": true,
        "id": "daCmmuaeAqko"
      },
      "execution_count": null,
      "outputs": []
    },
    {
      "cell_type": "code",
      "source": [
        "class SimpleMLP:\n",
        "    @staticmethod\n",
        "    def build(shape, classes):\n",
        "        model = Sequential()\n",
        "        model.add(Dense(200, input_shape=(shape,)))\n",
        "        model.add(Activation(\"relu\"))\n",
        "        model.add(Dense(200))\n",
        "        model.add(Activation(\"relu\"))\n",
        "        model.add(Dense(classes))\n",
        "        model.add(Activation(\"softmax\"))\n",
        "        return model\n",
        "\n",
        "#     def build(shape, classes):\n",
        "#         model = Sequential()\n",
        "#         model.add(Input(shape=(shape[0], shape[1], shape[2])))\n",
        "#         #model.add(Lambda(lambda x: expand_dims(x, axis=-1)))\n",
        "#         model.add(Conv2D(filters=64, kernel_size=3, padding=\"same\"))\n",
        "#         model.add(Activation(\"relu\"))\n",
        "#         model.add(Conv2D(filters=64, kernel_size=3, padding=\"same\"))\n",
        "#         model.add(Activation(\"relu\"))\n",
        "#         model.add(MaxPooling2D())\n",
        "#         model.add(Conv2D(filters=128, kernel_size=3, padding=\"same\"))\n",
        "#         model.add(Activation(\"relu\"))\n",
        "#         model.add(Conv2D(filters=128, kernel_size=3, padding=\"same\"))\n",
        "#         model.add(Activation(\"relu\"))\n",
        "#         model.add(MaxPooling2D())\n",
        "#         model.add(Activation(\"relu\"))\n",
        "#         model.add(Conv2D(filters=256, kernel_size=3, padding=\"same\"))\n",
        "#         model.add(Activation(\"relu\"))\n",
        "#         model.add(Conv2D(filters=256, kernel_size=3, padding=\"same\"))\n",
        "#         model.add(Activation(\"relu\"))\n",
        "#         model.add(MaxPooling2D())\n",
        "#         model.add(Activation(\"relu\"))\n",
        "#         model.add(Conv2D(filters=512, kernel_size=3, padding=\"same\"))\n",
        "#         model.add(Activation(\"relu\"))\n",
        "#         model.add(Conv2D(filters=512, kernel_size=3, padding=\"same\"))\n",
        "#         model.add(Activation(\"relu\"))\n",
        "#         model.add(MaxPooling2D())\n",
        "#         model.add(Flatten())\n",
        "#         model.add(Dense(32))\n",
        "#         model.add(Dense(classes))\n",
        "#         model.add(Activation(\"softmax\"))\n",
        "#         return model\n",
        "\n",
        "\n",
        "\n",
        "import tensorflow as tf\n",
        "from tensorflow.keras import layers, models, optimizers\n",
        "\n",
        "def attention_module(inputs):\n",
        "    # Squeeze and Excitation block\n",
        "    x = layers.GlobalAveragePooling2D()(inputs)\n",
        "    x = layers.Dense(units=inputs.shape[-1] // 16, activation='relu')(x)\n",
        "    x = layers.Dense(units=inputs.shape[-1], activation='sigmoid')(x)\n",
        "    x = layers.Multiply()([inputs, x])\n",
        "    return x\n",
        "\n",
        "\n",
        "def spatial_attention(input_feature):\n",
        "    kernel_size = 7\n",
        "    avg_pool = tf.reduce_mean(input_feature, axis=[3], keepdims=True)\n",
        "    max_pool = tf.reduce_max(input_feature, axis=[3], keepdims=True)\n",
        "    concat = tf.concat([avg_pool, max_pool], axis=3)\n",
        "    attention_map = layers.Conv2D(filters=1, kernel_size=kernel_size, strides=1, padding='same', activation='sigmoid')(concat)\n",
        "    return input_feature * attention_map\n",
        "\n",
        "\n",
        "def channel_attention(input_feature, ratio=8):\n",
        "    channel = input_feature.shape[-1]\n",
        "    avg_pool = layers.GlobalAveragePooling2D()(input_feature)\n",
        "    max_pool = layers.GlobalMaxPooling2D()(input_feature)\n",
        "    dense1 = layers.Dense(channel // ratio, activation='relu')\n",
        "    dense2 = layers.Dense(channel, activation='sigmoid')\n",
        "\n",
        "    avg_out = dense2(dense1(avg_pool))\n",
        "    max_out = dense2(dense1(max_pool))\n",
        "\n",
        "    attention = avg_out + max_out\n",
        "    return input_feature * layers.Reshape([1, 1, channel])(attention)\n",
        "\n",
        "\n",
        "def MACNN(input_shape, num_classes):\n",
        "    inputs = layers.Input(shape=input_shape)\n",
        "\n",
        "    # First Convolutional Block\n",
        "    x = layers.Conv2D(32, (3, 3), activation='relu')(inputs)\n",
        "    x = layers.BatchNormalization()(x)\n",
        "    x = layers.MaxPooling2D((2, 2))(x)\n",
        "    x = layers.Dropout(0.3)(x)\n",
        "\n",
        "    # Add Attention Module\n",
        "    x = attention_module(x)\n",
        "    x = spatial_attention(x)\n",
        "\n",
        "    # Second Convolutional Block\n",
        "    x = layers.Conv2D(64, (3, 3), activation='relu')(x)\n",
        "    x = layers.BatchNormalization()(x)\n",
        "    x = layers.MaxPooling2D((2, 2))(x)\n",
        "    x = layers.Dropout(0.4)(x)\n",
        "\n",
        "    # Add Attention Module\n",
        "    x = attention_module(x)\n",
        "    x = channel_attention(x)\n",
        "\n",
        "    # Third Convolutional Block\n",
        "    x = layers.Conv2D(128, (3, 3), activation='relu')(x)\n",
        "    x = layers.BatchNormalization()(x)\n",
        "    x = layers.MaxPooling2D((2, 2))(x)\n",
        "    x = layers.Dropout(0.4)(x)\n",
        "\n",
        "    # Dense Layers\n",
        "    x = layers.Dense(512, activation='relu')(x)\n",
        "    x = layers.BatchNormalization()(x)\n",
        "    x = layers.Dropout(0.5)(x)\n",
        "\n",
        "    outputs = layers.Dense(num_classes, activation='softmax')(x)\n",
        "\n",
        "    model = models.Model(inputs, outputs)\n",
        "    return model\n"
      ],
      "metadata": {
        "execution": {
          "iopub.status.busy": "2024-08-12T12:31:53.243277Z",
          "iopub.execute_input": "2024-08-12T12:31:53.243735Z",
          "iopub.status.idle": "2024-08-12T12:31:53.257853Z",
          "shell.execute_reply.started": "2024-08-12T12:31:53.243692Z",
          "shell.execute_reply": "2024-08-12T12:31:53.256868Z"
        },
        "trusted": true,
        "id": "UJEpuQZdAqko"
      },
      "execution_count": null,
      "outputs": []
    },
    {
      "cell_type": "code",
      "source": [
        "#declear path to your mnist data folder\n",
        "img_path = '../input/mnistasjpg/trainingSet/trainingSet' #'../input/cifar10-pngs-in-folders/cifar10/test'  # <-- test dataset #'../input/mnistasjpg/trainingSample/trainingSample' # <-- smaller dataset\n",
        "\n",
        "#get the path list using the path object\n",
        "image_paths = list(paths.list_images(img_path))\n",
        "\n",
        "#apply our function\n",
        "image_list, label_list = load(image_paths, verbose=10000)\n",
        "\n",
        "#binarize the labels\n",
        "lb = LabelBinarizer()\n",
        "label_list = lb.fit_transform(label_list)"
      ],
      "metadata": {
        "_kg_hide-output": true,
        "execution": {
          "iopub.status.busy": "2024-08-12T12:31:53.259289Z",
          "iopub.execute_input": "2024-08-12T12:31:53.259703Z",
          "iopub.status.idle": "2024-08-12T12:33:55.908425Z",
          "shell.execute_reply.started": "2024-08-12T12:31:53.259669Z",
          "shell.execute_reply": "2024-08-12T12:33:55.9074Z"
        },
        "trusted": true,
        "id": "VPwNh31RAqkp",
        "outputId": "272812d9-5699-4fdb-d0dd-6f26ffe95140"
      },
      "execution_count": null,
      "outputs": [
        {
          "name": "stdout",
          "text": "[INFO] processed 10000/42000\n[INFO] processed 20000/42000\n[INFO] processed 30000/42000\n[INFO] processed 40000/42000\n",
          "output_type": "stream"
        }
      ]
    },
    {
      "cell_type": "code",
      "source": [
        "#declear path to your RealAIGI data folder\n",
        "img_path = '../input/RealAIGI'\n",
        "\n",
        "#get the path list using the path object\n",
        "image_paths = list(paths.list_images(img_path))\n",
        "\n",
        "#apply our function\n",
        "image_list, label_list = load(image_paths, verbose=10000)\n",
        "\n",
        "#binarize the labels\n",
        "lb = LabelBinarizer()\n",
        "label_list = lb.fit_transform(label_list)"
      ],
      "metadata": {
        "id": "pBmR5ZtiAqkq"
      },
      "execution_count": null,
      "outputs": []
    },
    {
      "cell_type": "code",
      "source": [
        "#split data into training and test set\n",
        "X_train, X_test, y_train, y_test = train_test_split(image_list,\n",
        "                                                    label_list,\n",
        "                                                    test_size=0.1,\n",
        "                                                    random_state=42)"
      ],
      "metadata": {
        "execution": {
          "iopub.status.busy": "2024-08-12T12:33:55.909885Z",
          "iopub.execute_input": "2024-08-12T12:33:55.910325Z",
          "iopub.status.idle": "2024-08-12T12:33:55.939313Z",
          "shell.execute_reply.started": "2024-08-12T12:33:55.910279Z",
          "shell.execute_reply": "2024-08-12T12:33:55.938339Z"
        },
        "trusted": true,
        "id": "2FFSrFZ0Aqkq"
      },
      "execution_count": null,
      "outputs": []
    },
    {
      "cell_type": "markdown",
      "source": [
        "### IID"
      ],
      "metadata": {
        "id": "W8wqvYGPAqkr"
      }
    },
    {
      "cell_type": "code",
      "source": [
        "len(X_train), len(X_test), len(y_train), len(y_test)"
      ],
      "metadata": {
        "execution": {
          "iopub.status.busy": "2024-08-12T12:33:55.942184Z",
          "iopub.execute_input": "2024-08-12T12:33:55.942542Z",
          "iopub.status.idle": "2024-08-12T12:33:55.95266Z",
          "shell.execute_reply.started": "2024-08-12T12:33:55.94251Z",
          "shell.execute_reply": "2024-08-12T12:33:55.951694Z"
        },
        "trusted": true,
        "id": "A4DHqPGHAqkr",
        "outputId": "c51c280c-3914-4222-fe17-e9b8d095d969"
      },
      "execution_count": null,
      "outputs": [
        {
          "execution_count": 8,
          "output_type": "execute_result",
          "data": {
            "text/plain": "(37800, 4200, 37800, 4200)"
          },
          "metadata": {}
        }
      ]
    },
    {
      "cell_type": "code",
      "source": [
        "#create clients\n",
        "clients = create_clients(X_train, y_train, num_clients=100, initial='client')"
      ],
      "metadata": {
        "execution": {
          "iopub.status.busy": "2024-08-12T12:33:55.954901Z",
          "iopub.execute_input": "2024-08-12T12:33:55.955225Z",
          "iopub.status.idle": "2024-08-12T12:33:56.041242Z",
          "shell.execute_reply.started": "2024-08-12T12:33:55.955194Z",
          "shell.execute_reply": "2024-08-12T12:33:56.040275Z"
        },
        "trusted": true,
        "id": "msUaEm3ZAqkr"
      },
      "execution_count": null,
      "outputs": []
    },
    {
      "cell_type": "code",
      "source": [
        "# client_names = ['{}_{}'.format('client', i+1) for i in range(100)]\n",
        "# s = clients['client_1'][0][1]*0\n",
        "# for c in client_names:\n",
        "#     sum = clients[c][0][1]\n",
        "#     for i in range(1,378):\n",
        "#         sum = sum + clients[c][i][1]\n",
        "\n",
        "#     s = s + sum/378\n",
        "# s"
      ],
      "metadata": {
        "execution": {
          "iopub.status.busy": "2024-08-12T12:33:56.042845Z",
          "iopub.execute_input": "2024-08-12T12:33:56.043312Z",
          "iopub.status.idle": "2024-08-12T12:33:56.047426Z",
          "shell.execute_reply.started": "2024-08-12T12:33:56.043266Z",
          "shell.execute_reply": "2024-08-12T12:33:56.046364Z"
        },
        "trusted": true,
        "id": "Yrdfk_AqAqkr"
      },
      "execution_count": null,
      "outputs": []
    },
    {
      "cell_type": "code",
      "source": [
        "#process and batch the training data for each client\n",
        "clients_batched = dict()\n",
        "for (client_name, data) in clients.items():\n",
        "    clients_batched[client_name] = batch_data(data)\n",
        "\n",
        "#process and batch the test set\n",
        "test_batched = tf.data.Dataset.from_tensor_slices((X_test, y_test)).batch(len(y_test))"
      ],
      "metadata": {
        "execution": {
          "iopub.status.busy": "2024-08-12T12:33:56.048943Z",
          "iopub.execute_input": "2024-08-12T12:33:56.049388Z",
          "iopub.status.idle": "2024-08-12T12:34:07.737437Z",
          "shell.execute_reply.started": "2024-08-12T12:33:56.049347Z",
          "shell.execute_reply": "2024-08-12T12:34:07.736424Z"
        },
        "trusted": true,
        "id": "jPxX9u3xAqkr"
      },
      "execution_count": null,
      "outputs": []
    },
    {
      "cell_type": "code",
      "source": [
        "lr = 0.01\n",
        "# lr = 0.0001\n",
        "loss = 'binary_crossentropy'\n",
        "comms_round = 300\n",
        "loss='categorical_crossentropy'\n",
        "metrics = ['accuracy']\n",
        "optimizer = SGD(lr=lr,\n",
        "                decay=lr / comms_round,\n",
        "                momentum=0.9\n",
        "               )"
      ],
      "metadata": {
        "execution": {
          "iopub.status.busy": "2024-08-12T12:34:07.738907Z",
          "iopub.execute_input": "2024-08-12T12:34:07.739291Z",
          "iopub.status.idle": "2024-08-12T12:34:07.745147Z",
          "shell.execute_reply.started": "2024-08-12T12:34:07.739254Z",
          "shell.execute_reply": "2024-08-12T12:34:07.744042Z"
        },
        "trusted": true,
        "id": "bpDKEymOAqks"
      },
      "execution_count": null,
      "outputs": []
    },
    {
      "cell_type": "code",
      "source": [
        "#initialize global model\n",
        "\n",
        "build_shape = 784 #(28, 28, 3)  # 1024 <- CIFAR-10    # 784 # for MNIST # 1024 <- RealAIGI\n",
        "\n",
        "#smlp_global = SimpleMLP()\n",
        "smlp_global = MACNN()\n",
        "global_model = smlp_global.build(build_shape, 10)\n",
        "global_acc_list = []\n",
        "global_loss_list = []"
      ],
      "metadata": {
        "execution": {
          "iopub.status.busy": "2024-08-12T12:34:07.746868Z",
          "iopub.execute_input": "2024-08-12T12:34:07.747312Z",
          "iopub.status.idle": "2024-08-12T12:34:08.140611Z",
          "shell.execute_reply.started": "2024-08-12T12:34:07.747267Z",
          "shell.execute_reply": "2024-08-12T12:34:08.139451Z"
        },
        "trusted": true,
        "id": "LtTqvsTKAqks"
      },
      "execution_count": null,
      "outputs": []
    },
    {
      "cell_type": "code",
      "source": [
        "#commence global training loop\n",
        "for comm_round in range(comms_round):\n",
        "\n",
        "    # get the global model's weights - will serve as the initial weights for all local models\n",
        "    global_weights = global_model.get_weights()\n",
        "\n",
        "    #initial list to collect local model weights after scalling\n",
        "    scaled_local_weight_list = list()\n",
        "\n",
        "    #randomize client data - using keys\n",
        "    all_client_names = list(clients_batched.keys())\n",
        "\n",
        "    client_names = random.sample(all_client_names, k=10)\n",
        "    # print(client_names, len(client_names))\n",
        "    random.shuffle(client_names)\n",
        "\n",
        "#     if debug:\n",
        "#         # print('all_client_names', all_client_names)\n",
        "#         print('client_names', client_names, len(client_names))\n",
        "\n",
        "\n",
        "    #loop through each client and create new local model\n",
        "    for client in client_names:\n",
        "        #smlp_local = SimpleMLP()\n",
        "        smlp_global = MACNN()\n",
        "        local_model = smlp_local.build(build_shape, 10)\n",
        "        local_model.compile(loss=loss,\n",
        "                      optimizer=optimizer,\n",
        "                      metrics=metrics)\n",
        "\n",
        "        #set local model weight to the weight of the global model\n",
        "        local_model.set_weights(global_weights)\n",
        "\n",
        "        #fit local model with client's data\n",
        "        local_model.fit(clients_batched[client], epochs=1, verbose=0)\n",
        "\n",
        "        #scale the model weights and add to list\n",
        "        scaling_factor = 0.1 # weight_scalling_factor(clients_batched, client)\n",
        "        # print('scaling_factor', scaling_factor)\n",
        "        scaled_weights = scale_model_weights(local_model.get_weights(), scaling_factor)\n",
        "        scaled_local_weight_list.append(scaled_weights)\n",
        "\n",
        "        #clear session to free memory after each communication round\n",
        "        K.clear_session()\n",
        "\n",
        "    #to get the average over all the local model, we simply take the sum of the scaled weights\n",
        "    average_weights = sum_scaled_weights(scaled_local_weight_list)\n",
        "\n",
        "    #update global model\n",
        "    global_model.set_weights(average_weights)\n",
        "\n",
        "    #test global model and print out metrics after each communications round\n",
        "    for(X_test, Y_test) in test_batched:\n",
        "        global_acc, global_loss = test_model(X_test, Y_test, global_model, comm_round)\n",
        "        global_acc_list.append(global_acc)\n",
        "        global_loss_list.append(global_loss)"
      ],
      "metadata": {
        "execution": {
          "iopub.status.busy": "2024-08-12T12:34:08.141996Z",
          "iopub.execute_input": "2024-08-12T12:34:08.142332Z",
          "iopub.status.idle": "2024-08-12T13:01:58.994772Z",
          "shell.execute_reply.started": "2024-08-12T12:34:08.142302Z",
          "shell.execute_reply": "2024-08-12T13:01:58.993588Z"
        },
        "trusted": true,
        "id": "g74cZnT0Aqks",
        "outputId": "2a134b92-3751-469d-e2d1-f82ff59362c5"
      },
      "execution_count": null,
      "outputs": [
        {
          "name": "stdout",
          "text": "comm_round: 0 | global_acc: 47.238% | global_loss: 2.26708984375 | cumulative_time: 0.23 seconds\ncomm_round: 1 | global_acc: 62.381% | global_loss: 2.212703227996826 | cumulative_time: 0.38 seconds\ncomm_round: 2 | global_acc: 72.381% | global_loss: 2.1335561275482178 | cumulative_time: 0.53 seconds\ncomm_round: 3 | global_acc: 75.976% | global_loss: 2.0392730236053467 | cumulative_time: 0.68 seconds\ncomm_round: 4 | global_acc: 79.571% | global_loss: 1.9596021175384521 | cumulative_time: 0.83 seconds\ncomm_round: 5 | global_acc: 81.310% | global_loss: 1.8976680040359497 | cumulative_time: 0.98 seconds\ncomm_round: 6 | global_acc: 82.238% | global_loss: 1.8540202379226685 | cumulative_time: 1.15 seconds\ncomm_round: 7 | global_acc: 82.667% | global_loss: 1.818867802619934 | cumulative_time: 1.29 seconds\ncomm_round: 8 | global_acc: 83.905% | global_loss: 1.79023277759552 | cumulative_time: 1.44 seconds\ncomm_round: 9 | global_acc: 84.643% | global_loss: 1.7705410718917847 | cumulative_time: 1.59 seconds\ncomm_round: 10 | global_acc: 85.238% | global_loss: 1.750077486038208 | cumulative_time: 1.73 seconds\ncomm_round: 11 | global_acc: 85.881% | global_loss: 1.7366262674331665 | cumulative_time: 1.88 seconds\ncomm_round: 12 | global_acc: 85.810% | global_loss: 1.7238808870315552 | cumulative_time: 2.03 seconds\ncomm_round: 13 | global_acc: 86.190% | global_loss: 1.7134867906570435 | cumulative_time: 2.17 seconds\ncomm_round: 14 | global_acc: 86.714% | global_loss: 1.7036924362182617 | cumulative_time: 2.32 seconds\ncomm_round: 15 | global_acc: 87.190% | global_loss: 1.6946625709533691 | cumulative_time: 2.47 seconds\ncomm_round: 16 | global_acc: 87.476% | global_loss: 1.686879277229309 | cumulative_time: 2.62 seconds\ncomm_round: 17 | global_acc: 87.833% | global_loss: 1.6832653284072876 | cumulative_time: 2.77 seconds\ncomm_round: 18 | global_acc: 88.286% | global_loss: 1.6748627424240112 | cumulative_time: 2.91 seconds\ncomm_round: 19 | global_acc: 88.357% | global_loss: 1.670025110244751 | cumulative_time: 3.06 seconds\ncomm_round: 20 | global_acc: 88.143% | global_loss: 1.6650234460830688 | cumulative_time: 3.21 seconds\ncomm_round: 21 | global_acc: 88.643% | global_loss: 1.6608335971832275 | cumulative_time: 3.36 seconds\ncomm_round: 22 | global_acc: 88.976% | global_loss: 1.6584354639053345 | cumulative_time: 3.50 seconds\ncomm_round: 23 | global_acc: 88.690% | global_loss: 1.6538364887237549 | cumulative_time: 3.65 seconds\ncomm_round: 24 | global_acc: 89.190% | global_loss: 1.651212215423584 | cumulative_time: 3.79 seconds\ncomm_round: 25 | global_acc: 89.095% | global_loss: 1.6470173597335815 | cumulative_time: 3.94 seconds\ncomm_round: 26 | global_acc: 89.095% | global_loss: 1.6449613571166992 | cumulative_time: 4.09 seconds\ncomm_round: 27 | global_acc: 89.095% | global_loss: 1.6424278020858765 | cumulative_time: 4.24 seconds\ncomm_round: 28 | global_acc: 89.571% | global_loss: 1.639919400215149 | cumulative_time: 4.39 seconds\ncomm_round: 29 | global_acc: 89.500% | global_loss: 1.636844277381897 | cumulative_time: 4.54 seconds\ncomm_round: 30 | global_acc: 89.714% | global_loss: 1.6342601776123047 | cumulative_time: 4.69 seconds\ncomm_round: 31 | global_acc: 89.452% | global_loss: 1.6328924894332886 | cumulative_time: 4.84 seconds\ncomm_round: 32 | global_acc: 90.000% | global_loss: 1.630792498588562 | cumulative_time: 4.99 seconds\ncomm_round: 33 | global_acc: 89.690% | global_loss: 1.6280618906021118 | cumulative_time: 5.14 seconds\ncomm_round: 34 | global_acc: 89.857% | global_loss: 1.6267492771148682 | cumulative_time: 5.29 seconds\ncomm_round: 35 | global_acc: 89.929% | global_loss: 1.6258589029312134 | cumulative_time: 5.44 seconds\ncomm_round: 36 | global_acc: 90.167% | global_loss: 1.6228055953979492 | cumulative_time: 5.58 seconds\ncomm_round: 37 | global_acc: 90.048% | global_loss: 1.622059941291809 | cumulative_time: 5.73 seconds\ncomm_round: 38 | global_acc: 90.333% | global_loss: 1.620221734046936 | cumulative_time: 5.87 seconds\ncomm_round: 39 | global_acc: 90.381% | global_loss: 1.6178431510925293 | cumulative_time: 6.02 seconds\ncomm_round: 40 | global_acc: 90.286% | global_loss: 1.6163722276687622 | cumulative_time: 6.17 seconds\ncomm_round: 41 | global_acc: 90.381% | global_loss: 1.6152194738388062 | cumulative_time: 6.32 seconds\ncomm_round: 42 | global_acc: 90.667% | global_loss: 1.6151796579360962 | cumulative_time: 6.46 seconds\ncomm_round: 43 | global_acc: 90.310% | global_loss: 1.6142854690551758 | cumulative_time: 6.62 seconds\ncomm_round: 44 | global_acc: 90.643% | global_loss: 1.6137477159500122 | cumulative_time: 6.76 seconds\ncomm_round: 45 | global_acc: 90.429% | global_loss: 1.614669680595398 | cumulative_time: 6.92 seconds\ncomm_round: 46 | global_acc: 90.786% | global_loss: 1.6103935241699219 | cumulative_time: 7.07 seconds\ncomm_round: 47 | global_acc: 90.595% | global_loss: 1.6110072135925293 | cumulative_time: 7.22 seconds\ncomm_round: 48 | global_acc: 91.024% | global_loss: 1.6087974309921265 | cumulative_time: 7.36 seconds\ncomm_round: 49 | global_acc: 91.024% | global_loss: 1.6077321767807007 | cumulative_time: 7.51 seconds\ncomm_round: 50 | global_acc: 91.000% | global_loss: 1.606134295463562 | cumulative_time: 7.67 seconds\ncomm_round: 51 | global_acc: 90.929% | global_loss: 1.6066699028015137 | cumulative_time: 7.82 seconds\ncomm_round: 52 | global_acc: 91.095% | global_loss: 1.6052483320236206 | cumulative_time: 7.97 seconds\ncomm_round: 53 | global_acc: 90.929% | global_loss: 1.604873538017273 | cumulative_time: 8.16 seconds\ncomm_round: 54 | global_acc: 91.381% | global_loss: 1.6030137538909912 | cumulative_time: 8.31 seconds\ncomm_round: 55 | global_acc: 91.190% | global_loss: 1.601627230644226 | cumulative_time: 8.46 seconds\ncomm_round: 56 | global_acc: 91.214% | global_loss: 1.6006073951721191 | cumulative_time: 8.60 seconds\ncomm_round: 57 | global_acc: 91.238% | global_loss: 1.5993196964263916 | cumulative_time: 8.76 seconds\ncomm_round: 58 | global_acc: 91.524% | global_loss: 1.5989422798156738 | cumulative_time: 8.93 seconds\ncomm_round: 59 | global_acc: 91.286% | global_loss: 1.598035454750061 | cumulative_time: 9.07 seconds\ncomm_round: 60 | global_acc: 91.548% | global_loss: 1.598319411277771 | cumulative_time: 9.22 seconds\ncomm_round: 61 | global_acc: 91.667% | global_loss: 1.5961652994155884 | cumulative_time: 9.37 seconds\ncomm_round: 62 | global_acc: 91.643% | global_loss: 1.5957722663879395 | cumulative_time: 9.52 seconds\ncomm_round: 63 | global_acc: 91.690% | global_loss: 1.5958729982376099 | cumulative_time: 9.67 seconds\ncomm_round: 64 | global_acc: 91.905% | global_loss: 1.594164252281189 | cumulative_time: 9.81 seconds\ncomm_round: 65 | global_acc: 91.786% | global_loss: 1.5938528776168823 | cumulative_time: 9.96 seconds\ncomm_round: 66 | global_acc: 91.905% | global_loss: 1.5928956270217896 | cumulative_time: 10.11 seconds\ncomm_round: 67 | global_acc: 91.762% | global_loss: 1.5926433801651 | cumulative_time: 10.26 seconds\ncomm_round: 68 | global_acc: 91.714% | global_loss: 1.5922367572784424 | cumulative_time: 10.41 seconds\ncomm_round: 69 | global_acc: 91.833% | global_loss: 1.5908349752426147 | cumulative_time: 10.56 seconds\ncomm_round: 70 | global_acc: 91.667% | global_loss: 1.590651273727417 | cumulative_time: 10.71 seconds\ncomm_round: 71 | global_acc: 91.976% | global_loss: 1.5901035070419312 | cumulative_time: 10.86 seconds\ncomm_round: 72 | global_acc: 92.000% | global_loss: 1.5891145467758179 | cumulative_time: 11.01 seconds\ncomm_round: 73 | global_acc: 92.024% | global_loss: 1.5908544063568115 | cumulative_time: 11.16 seconds\ncomm_round: 74 | global_acc: 91.952% | global_loss: 1.589013695716858 | cumulative_time: 11.31 seconds\ncomm_round: 75 | global_acc: 92.024% | global_loss: 1.5902482271194458 | cumulative_time: 11.46 seconds\ncomm_round: 76 | global_acc: 91.833% | global_loss: 1.5881102085113525 | cumulative_time: 11.61 seconds\ncomm_round: 77 | global_acc: 91.929% | global_loss: 1.5887311697006226 | cumulative_time: 11.76 seconds\ncomm_round: 78 | global_acc: 92.262% | global_loss: 1.5865490436553955 | cumulative_time: 11.91 seconds\ncomm_round: 79 | global_acc: 91.952% | global_loss: 1.5870463848114014 | cumulative_time: 12.06 seconds\ncomm_round: 80 | global_acc: 92.071% | global_loss: 1.5859510898590088 | cumulative_time: 12.21 seconds\ncomm_round: 81 | global_acc: 92.381% | global_loss: 1.5858885049819946 | cumulative_time: 12.36 seconds\ncomm_round: 82 | global_acc: 92.095% | global_loss: 1.5868430137634277 | cumulative_time: 12.51 seconds\ncomm_round: 83 | global_acc: 92.381% | global_loss: 1.585263967514038 | cumulative_time: 12.66 seconds\ncomm_round: 84 | global_acc: 92.429% | global_loss: 1.5851633548736572 | cumulative_time: 12.81 seconds\ncomm_round: 85 | global_acc: 92.333% | global_loss: 1.58457350730896 | cumulative_time: 12.96 seconds\ncomm_round: 86 | global_acc: 92.190% | global_loss: 1.5839576721191406 | cumulative_time: 13.11 seconds\ncomm_round: 87 | global_acc: 92.381% | global_loss: 1.583274245262146 | cumulative_time: 13.25 seconds\ncomm_round: 88 | global_acc: 92.238% | global_loss: 1.5826780796051025 | cumulative_time: 13.41 seconds\ncomm_round: 89 | global_acc: 92.548% | global_loss: 1.582777976989746 | cumulative_time: 13.56 seconds\ncomm_round: 90 | global_acc: 92.310% | global_loss: 1.5813028812408447 | cumulative_time: 13.71 seconds\ncomm_round: 91 | global_acc: 92.619% | global_loss: 1.5812005996704102 | cumulative_time: 13.85 seconds\ncomm_round: 92 | global_acc: 92.667% | global_loss: 1.5795968770980835 | cumulative_time: 14.00 seconds\ncomm_round: 93 | global_acc: 92.333% | global_loss: 1.5817021131515503 | cumulative_time: 14.15 seconds\ncomm_round: 94 | global_acc: 92.548% | global_loss: 1.5795378684997559 | cumulative_time: 14.30 seconds\ncomm_round: 95 | global_acc: 92.500% | global_loss: 1.5800808668136597 | cumulative_time: 14.45 seconds\ncomm_round: 96 | global_acc: 92.619% | global_loss: 1.5794810056686401 | cumulative_time: 14.60 seconds\ncomm_round: 97 | global_acc: 92.810% | global_loss: 1.5783406496047974 | cumulative_time: 14.75 seconds\ncomm_round: 98 | global_acc: 92.738% | global_loss: 1.5780627727508545 | cumulative_time: 14.89 seconds\ncomm_round: 99 | global_acc: 92.690% | global_loss: 1.5776692628860474 | cumulative_time: 15.04 seconds\ncomm_round: 100 | global_acc: 92.643% | global_loss: 1.5786241292953491 | cumulative_time: 15.19 seconds\ncomm_round: 101 | global_acc: 93.000% | global_loss: 1.5774669647216797 | cumulative_time: 15.34 seconds\ncomm_round: 102 | global_acc: 92.714% | global_loss: 1.5761752128601074 | cumulative_time: 15.49 seconds\ncomm_round: 103 | global_acc: 92.619% | global_loss: 1.5769256353378296 | cumulative_time: 15.64 seconds\ncomm_round: 104 | global_acc: 92.905% | global_loss: 1.5763252973556519 | cumulative_time: 15.79 seconds\ncomm_round: 105 | global_acc: 92.714% | global_loss: 1.5769494771957397 | cumulative_time: 15.94 seconds\ncomm_round: 106 | global_acc: 92.500% | global_loss: 1.5770102739334106 | cumulative_time: 16.08 seconds\ncomm_round: 107 | global_acc: 92.905% | global_loss: 1.5749064683914185 | cumulative_time: 16.23 seconds\ncomm_round: 108 | global_acc: 92.929% | global_loss: 1.5748225450515747 | cumulative_time: 16.38 seconds\ncomm_round: 109 | global_acc: 92.548% | global_loss: 1.5742080211639404 | cumulative_time: 16.55 seconds\ncomm_round: 110 | global_acc: 92.929% | global_loss: 1.5747110843658447 | cumulative_time: 16.70 seconds\ncomm_round: 111 | global_acc: 92.833% | global_loss: 1.5745688676834106 | cumulative_time: 16.84 seconds\ncomm_round: 112 | global_acc: 92.976% | global_loss: 1.5736054182052612 | cumulative_time: 16.99 seconds\ncomm_round: 113 | global_acc: 93.048% | global_loss: 1.5726594924926758 | cumulative_time: 17.14 seconds\ncomm_round: 114 | global_acc: 93.119% | global_loss: 1.5734164714813232 | cumulative_time: 17.29 seconds\ncomm_round: 115 | global_acc: 93.000% | global_loss: 1.5722826719284058 | cumulative_time: 17.45 seconds\ncomm_round: 116 | global_acc: 93.024% | global_loss: 1.572859525680542 | cumulative_time: 17.59 seconds\ncomm_round: 117 | global_acc: 93.190% | global_loss: 1.572304606437683 | cumulative_time: 17.74 seconds\ncomm_round: 118 | global_acc: 93.048% | global_loss: 1.5712827444076538 | cumulative_time: 17.89 seconds\ncomm_round: 119 | global_acc: 92.929% | global_loss: 1.5719614028930664 | cumulative_time: 18.04 seconds\ncomm_round: 120 | global_acc: 92.929% | global_loss: 1.5717073678970337 | cumulative_time: 18.19 seconds\ncomm_round: 121 | global_acc: 93.071% | global_loss: 1.5706067085266113 | cumulative_time: 18.34 seconds\ncomm_round: 122 | global_acc: 93.024% | global_loss: 1.5705984830856323 | cumulative_time: 18.48 seconds\ncomm_round: 123 | global_acc: 92.952% | global_loss: 1.5705554485321045 | cumulative_time: 18.63 seconds\ncomm_round: 124 | global_acc: 93.214% | global_loss: 1.569386601448059 | cumulative_time: 18.78 seconds\ncomm_round: 125 | global_acc: 93.119% | global_loss: 1.5690864324569702 | cumulative_time: 18.92 seconds\ncomm_round: 126 | global_acc: 93.262% | global_loss: 1.5695148706436157 | cumulative_time: 19.08 seconds\ncomm_round: 127 | global_acc: 92.976% | global_loss: 1.5689338445663452 | cumulative_time: 19.23 seconds\ncomm_round: 128 | global_acc: 92.881% | global_loss: 1.5697507858276367 | cumulative_time: 19.37 seconds\ncomm_round: 129 | global_acc: 93.310% | global_loss: 1.5677599906921387 | cumulative_time: 19.53 seconds\ncomm_round: 130 | global_acc: 93.143% | global_loss: 1.5683720111846924 | cumulative_time: 19.67 seconds\ncomm_round: 131 | global_acc: 93.286% | global_loss: 1.5679174661636353 | cumulative_time: 19.82 seconds\ncomm_round: 132 | global_acc: 93.190% | global_loss: 1.5676724910736084 | cumulative_time: 19.97 seconds\ncomm_round: 133 | global_acc: 93.310% | global_loss: 1.5665817260742188 | cumulative_time: 20.12 seconds\ncomm_round: 134 | global_acc: 93.357% | global_loss: 1.5662962198257446 | cumulative_time: 20.28 seconds\ncomm_round: 135 | global_acc: 93.238% | global_loss: 1.567304253578186 | cumulative_time: 20.42 seconds\ncomm_round: 136 | global_acc: 93.167% | global_loss: 1.5661165714263916 | cumulative_time: 20.57 seconds\ncomm_round: 137 | global_acc: 93.286% | global_loss: 1.5663264989852905 | cumulative_time: 20.72 seconds\ncomm_round: 138 | global_acc: 93.167% | global_loss: 1.5666475296020508 | cumulative_time: 20.87 seconds\ncomm_round: 139 | global_acc: 93.452% | global_loss: 1.565268874168396 | cumulative_time: 21.02 seconds\ncomm_round: 140 | global_acc: 93.405% | global_loss: 1.5649470090866089 | cumulative_time: 21.18 seconds\ncomm_round: 141 | global_acc: 93.405% | global_loss: 1.5657232999801636 | cumulative_time: 21.33 seconds\ncomm_round: 142 | global_acc: 93.476% | global_loss: 1.5648092031478882 | cumulative_time: 21.48 seconds\ncomm_round: 143 | global_acc: 93.190% | global_loss: 1.5655994415283203 | cumulative_time: 21.63 seconds\ncomm_round: 144 | global_acc: 93.571% | global_loss: 1.565022349357605 | cumulative_time: 21.78 seconds\ncomm_round: 145 | global_acc: 93.214% | global_loss: 1.565042495727539 | cumulative_time: 21.94 seconds\ncomm_round: 146 | global_acc: 93.595% | global_loss: 1.5641621351242065 | cumulative_time: 22.09 seconds\ncomm_round: 147 | global_acc: 93.548% | global_loss: 1.5637950897216797 | cumulative_time: 22.25 seconds\ncomm_round: 148 | global_acc: 93.500% | global_loss: 1.5633623600006104 | cumulative_time: 22.40 seconds\ncomm_round: 149 | global_acc: 93.333% | global_loss: 1.563278317451477 | cumulative_time: 22.55 seconds\ncomm_round: 150 | global_acc: 93.476% | global_loss: 1.5633416175842285 | cumulative_time: 22.70 seconds\ncomm_round: 151 | global_acc: 93.452% | global_loss: 1.56284499168396 | cumulative_time: 22.85 seconds\ncomm_round: 152 | global_acc: 93.500% | global_loss: 1.5622442960739136 | cumulative_time: 23.00 seconds\ncomm_round: 153 | global_acc: 93.310% | global_loss: 1.5629340410232544 | cumulative_time: 23.15 seconds\ncomm_round: 154 | global_acc: 93.452% | global_loss: 1.5623174905776978 | cumulative_time: 23.30 seconds\ncomm_round: 155 | global_acc: 93.524% | global_loss: 1.5629247426986694 | cumulative_time: 23.45 seconds\ncomm_round: 156 | global_acc: 93.524% | global_loss: 1.5624542236328125 | cumulative_time: 23.60 seconds\ncomm_round: 157 | global_acc: 93.571% | global_loss: 1.561017394065857 | cumulative_time: 23.75 seconds\ncomm_round: 158 | global_acc: 93.571% | global_loss: 1.5610146522521973 | cumulative_time: 23.90 seconds\ncomm_round: 159 | global_acc: 93.452% | global_loss: 1.5620977878570557 | cumulative_time: 24.05 seconds\ncomm_round: 160 | global_acc: 93.595% | global_loss: 1.5610891580581665 | cumulative_time: 24.19 seconds\ncomm_round: 161 | global_acc: 93.714% | global_loss: 1.5610599517822266 | cumulative_time: 24.34 seconds\ncomm_round: 162 | global_acc: 93.571% | global_loss: 1.5605602264404297 | cumulative_time: 24.49 seconds\ncomm_round: 163 | global_acc: 93.643% | global_loss: 1.5608426332473755 | cumulative_time: 24.64 seconds\ncomm_round: 164 | global_acc: 93.667% | global_loss: 1.560103416442871 | cumulative_time: 24.79 seconds\ncomm_round: 165 | global_acc: 93.810% | global_loss: 1.5607365369796753 | cumulative_time: 24.95 seconds\ncomm_round: 166 | global_acc: 93.524% | global_loss: 1.5606303215026855 | cumulative_time: 25.10 seconds\ncomm_round: 167 | global_acc: 93.667% | global_loss: 1.5603340864181519 | cumulative_time: 25.25 seconds\ncomm_round: 168 | global_acc: 93.857% | global_loss: 1.5595288276672363 | cumulative_time: 25.40 seconds\ncomm_round: 169 | global_acc: 93.690% | global_loss: 1.5591639280319214 | cumulative_time: 25.55 seconds\ncomm_round: 170 | global_acc: 93.667% | global_loss: 1.5595544576644897 | cumulative_time: 25.70 seconds\ncomm_round: 171 | global_acc: 93.619% | global_loss: 1.5592344999313354 | cumulative_time: 25.85 seconds\ncomm_round: 172 | global_acc: 93.714% | global_loss: 1.5584319829940796 | cumulative_time: 25.99 seconds\ncomm_round: 173 | global_acc: 93.690% | global_loss: 1.5588988065719604 | cumulative_time: 26.14 seconds\ncomm_round: 174 | global_acc: 93.762% | global_loss: 1.5580723285675049 | cumulative_time: 26.29 seconds\ncomm_round: 175 | global_acc: 93.714% | global_loss: 1.5588973760604858 | cumulative_time: 26.44 seconds\ncomm_round: 176 | global_acc: 93.667% | global_loss: 1.5585570335388184 | cumulative_time: 26.59 seconds\ncomm_round: 177 | global_acc: 93.643% | global_loss: 1.558131217956543 | cumulative_time: 26.74 seconds\ncomm_round: 178 | global_acc: 93.619% | global_loss: 1.5585602521896362 | cumulative_time: 26.89 seconds\ncomm_round: 179 | global_acc: 93.929% | global_loss: 1.5570883750915527 | cumulative_time: 27.03 seconds\ncomm_round: 180 | global_acc: 93.786% | global_loss: 1.5586879253387451 | cumulative_time: 27.18 seconds\ncomm_round: 181 | global_acc: 93.905% | global_loss: 1.5570645332336426 | cumulative_time: 27.32 seconds\ncomm_round: 182 | global_acc: 93.619% | global_loss: 1.5573290586471558 | cumulative_time: 27.47 seconds\ncomm_round: 183 | global_acc: 93.952% | global_loss: 1.5560791492462158 | cumulative_time: 27.62 seconds\ncomm_round: 184 | global_acc: 93.833% | global_loss: 1.5570787191390991 | cumulative_time: 27.77 seconds\ncomm_round: 185 | global_acc: 93.905% | global_loss: 1.5559977293014526 | cumulative_time: 27.93 seconds\ncomm_round: 186 | global_acc: 93.738% | global_loss: 1.5562070608139038 | cumulative_time: 28.08 seconds\ncomm_round: 187 | global_acc: 93.929% | global_loss: 1.5567559003829956 | cumulative_time: 28.23 seconds\ncomm_round: 188 | global_acc: 93.786% | global_loss: 1.5557820796966553 | cumulative_time: 28.39 seconds\ncomm_round: 189 | global_acc: 94.143% | global_loss: 1.5554858446121216 | cumulative_time: 28.54 seconds\ncomm_round: 190 | global_acc: 93.833% | global_loss: 1.5556608438491821 | cumulative_time: 28.69 seconds\ncomm_round: 191 | global_acc: 94.024% | global_loss: 1.5545531511306763 | cumulative_time: 28.84 seconds\ncomm_round: 192 | global_acc: 94.024% | global_loss: 1.5551881790161133 | cumulative_time: 28.99 seconds\ncomm_round: 193 | global_acc: 93.881% | global_loss: 1.5541914701461792 | cumulative_time: 29.15 seconds\ncomm_round: 194 | global_acc: 93.952% | global_loss: 1.5545223951339722 | cumulative_time: 29.30 seconds\ncomm_round: 195 | global_acc: 93.881% | global_loss: 1.5539860725402832 | cumulative_time: 29.44 seconds\ncomm_round: 196 | global_acc: 94.071% | global_loss: 1.554218053817749 | cumulative_time: 29.59 seconds\ncomm_round: 197 | global_acc: 93.952% | global_loss: 1.5535531044006348 | cumulative_time: 29.74 seconds\ncomm_round: 198 | global_acc: 93.952% | global_loss: 1.5537396669387817 | cumulative_time: 29.89 seconds\ncomm_round: 199 | global_acc: 93.952% | global_loss: 1.5539413690567017 | cumulative_time: 30.04 seconds\ncomm_round: 200 | global_acc: 94.048% | global_loss: 1.552840232849121 | cumulative_time: 30.19 seconds\ncomm_round: 201 | global_acc: 94.143% | global_loss: 1.5530072450637817 | cumulative_time: 30.34 seconds\ncomm_round: 202 | global_acc: 93.929% | global_loss: 1.5537232160568237 | cumulative_time: 30.49 seconds\ncomm_round: 203 | global_acc: 94.024% | global_loss: 1.5528665781021118 | cumulative_time: 30.64 seconds\ncomm_round: 204 | global_acc: 94.024% | global_loss: 1.5528273582458496 | cumulative_time: 30.79 seconds\ncomm_round: 205 | global_acc: 93.929% | global_loss: 1.553152084350586 | cumulative_time: 30.94 seconds\ncomm_round: 206 | global_acc: 93.905% | global_loss: 1.553287148475647 | cumulative_time: 31.10 seconds\ncomm_round: 207 | global_acc: 94.167% | global_loss: 1.5517828464508057 | cumulative_time: 31.25 seconds\ncomm_round: 208 | global_acc: 93.929% | global_loss: 1.5522384643554688 | cumulative_time: 31.40 seconds\ncomm_round: 209 | global_acc: 94.286% | global_loss: 1.5515261888504028 | cumulative_time: 31.55 seconds\ncomm_round: 210 | global_acc: 94.071% | global_loss: 1.5514085292816162 | cumulative_time: 31.69 seconds\ncomm_round: 211 | global_acc: 94.024% | global_loss: 1.551556944847107 | cumulative_time: 31.84 seconds\ncomm_round: 212 | global_acc: 94.143% | global_loss: 1.55087411403656 | cumulative_time: 32.00 seconds\ncomm_round: 213 | global_acc: 93.929% | global_loss: 1.5515046119689941 | cumulative_time: 32.14 seconds\ncomm_round: 214 | global_acc: 94.214% | global_loss: 1.5517070293426514 | cumulative_time: 32.29 seconds\ncomm_round: 215 | global_acc: 94.119% | global_loss: 1.55135977268219 | cumulative_time: 32.44 seconds\ncomm_round: 216 | global_acc: 94.286% | global_loss: 1.5511537790298462 | cumulative_time: 32.59 seconds\ncomm_round: 217 | global_acc: 94.048% | global_loss: 1.55085027217865 | cumulative_time: 32.74 seconds\ncomm_round: 218 | global_acc: 94.238% | global_loss: 1.5503758192062378 | cumulative_time: 32.89 seconds\ncomm_round: 219 | global_acc: 94.214% | global_loss: 1.55019211769104 | cumulative_time: 33.03 seconds\ncomm_round: 220 | global_acc: 94.095% | global_loss: 1.5511248111724854 | cumulative_time: 33.18 seconds\ncomm_round: 221 | global_acc: 94.238% | global_loss: 1.5498874187469482 | cumulative_time: 33.33 seconds\ncomm_round: 222 | global_acc: 94.357% | global_loss: 1.54941987991333 | cumulative_time: 33.48 seconds\ncomm_round: 223 | global_acc: 94.048% | global_loss: 1.5507466793060303 | cumulative_time: 33.63 seconds\ncomm_round: 224 | global_acc: 94.310% | global_loss: 1.549451470375061 | cumulative_time: 33.78 seconds\ncomm_round: 225 | global_acc: 94.286% | global_loss: 1.5493347644805908 | cumulative_time: 33.92 seconds\ncomm_round: 226 | global_acc: 94.286% | global_loss: 1.5495368242263794 | cumulative_time: 34.07 seconds\ncomm_round: 227 | global_acc: 94.310% | global_loss: 1.5491795539855957 | cumulative_time: 34.22 seconds\ncomm_round: 228 | global_acc: 94.214% | global_loss: 1.548819899559021 | cumulative_time: 34.37 seconds\ncomm_round: 229 | global_acc: 94.310% | global_loss: 1.5486642122268677 | cumulative_time: 34.51 seconds\ncomm_round: 230 | global_acc: 94.286% | global_loss: 1.5488805770874023 | cumulative_time: 34.67 seconds\ncomm_round: 231 | global_acc: 94.310% | global_loss: 1.5482138395309448 | cumulative_time: 34.81 seconds\ncomm_round: 232 | global_acc: 94.119% | global_loss: 1.5485621690750122 | cumulative_time: 34.96 seconds\ncomm_round: 233 | global_acc: 94.357% | global_loss: 1.548075556755066 | cumulative_time: 35.11 seconds\ncomm_round: 234 | global_acc: 94.357% | global_loss: 1.549182653427124 | cumulative_time: 35.25 seconds\ncomm_round: 235 | global_acc: 94.286% | global_loss: 1.547777771949768 | cumulative_time: 35.40 seconds\ncomm_round: 236 | global_acc: 94.452% | global_loss: 1.5480097532272339 | cumulative_time: 35.54 seconds\ncomm_round: 237 | global_acc: 94.405% | global_loss: 1.5485882759094238 | cumulative_time: 35.69 seconds\ncomm_round: 238 | global_acc: 94.476% | global_loss: 1.5481237173080444 | cumulative_time: 35.83 seconds\ncomm_round: 239 | global_acc: 94.333% | global_loss: 1.5479609966278076 | cumulative_time: 35.98 seconds\ncomm_round: 240 | global_acc: 94.286% | global_loss: 1.5475674867630005 | cumulative_time: 36.12 seconds\ncomm_round: 241 | global_acc: 94.357% | global_loss: 1.5478572845458984 | cumulative_time: 36.27 seconds\ncomm_round: 242 | global_acc: 94.381% | global_loss: 1.5476402044296265 | cumulative_time: 36.41 seconds\ncomm_round: 243 | global_acc: 94.429% | global_loss: 1.5474004745483398 | cumulative_time: 36.58 seconds\ncomm_round: 244 | global_acc: 94.286% | global_loss: 1.5472698211669922 | cumulative_time: 36.73 seconds\ncomm_round: 245 | global_acc: 94.524% | global_loss: 1.5469658374786377 | cumulative_time: 36.88 seconds\ncomm_round: 246 | global_acc: 94.238% | global_loss: 1.5469436645507812 | cumulative_time: 37.03 seconds\ncomm_round: 247 | global_acc: 94.405% | global_loss: 1.5466585159301758 | cumulative_time: 37.18 seconds\ncomm_round: 248 | global_acc: 94.310% | global_loss: 1.5461559295654297 | cumulative_time: 37.33 seconds\ncomm_round: 249 | global_acc: 94.381% | global_loss: 1.5470870733261108 | cumulative_time: 37.49 seconds\ncomm_round: 250 | global_acc: 94.452% | global_loss: 1.546713948249817 | cumulative_time: 37.65 seconds\ncomm_round: 251 | global_acc: 94.524% | global_loss: 1.5462024211883545 | cumulative_time: 37.79 seconds\ncomm_round: 252 | global_acc: 94.476% | global_loss: 1.5470020771026611 | cumulative_time: 37.95 seconds\ncomm_round: 253 | global_acc: 94.333% | global_loss: 1.547216534614563 | cumulative_time: 38.11 seconds\ncomm_round: 254 | global_acc: 94.476% | global_loss: 1.545698642730713 | cumulative_time: 38.26 seconds\ncomm_round: 255 | global_acc: 94.310% | global_loss: 1.5458872318267822 | cumulative_time: 38.42 seconds\ncomm_round: 256 | global_acc: 94.452% | global_loss: 1.5458773374557495 | cumulative_time: 38.57 seconds\ncomm_round: 257 | global_acc: 94.429% | global_loss: 1.545651912689209 | cumulative_time: 38.73 seconds\ncomm_round: 258 | global_acc: 94.429% | global_loss: 1.5459023714065552 | cumulative_time: 38.88 seconds\ncomm_round: 259 | global_acc: 94.333% | global_loss: 1.5457249879837036 | cumulative_time: 39.03 seconds\ncomm_round: 260 | global_acc: 94.571% | global_loss: 1.5451328754425049 | cumulative_time: 39.18 seconds\ncomm_round: 261 | global_acc: 94.524% | global_loss: 1.5449731349945068 | cumulative_time: 39.31 seconds\ncomm_round: 262 | global_acc: 94.190% | global_loss: 1.5455501079559326 | cumulative_time: 39.46 seconds\ncomm_round: 263 | global_acc: 94.524% | global_loss: 1.5449953079223633 | cumulative_time: 39.61 seconds\ncomm_round: 264 | global_acc: 94.238% | global_loss: 1.5450241565704346 | cumulative_time: 39.75 seconds\ncomm_round: 265 | global_acc: 94.690% | global_loss: 1.5449657440185547 | cumulative_time: 39.90 seconds\ncomm_round: 266 | global_acc: 94.476% | global_loss: 1.5449436902999878 | cumulative_time: 40.04 seconds\ncomm_round: 267 | global_acc: 94.619% | global_loss: 1.5451416969299316 | cumulative_time: 40.19 seconds\ncomm_round: 268 | global_acc: 94.571% | global_loss: 1.545090675354004 | cumulative_time: 40.35 seconds\ncomm_round: 269 | global_acc: 94.429% | global_loss: 1.5441089868545532 | cumulative_time: 40.50 seconds\ncomm_round: 270 | global_acc: 94.524% | global_loss: 1.5442686080932617 | cumulative_time: 40.64 seconds\ncomm_round: 271 | global_acc: 94.571% | global_loss: 1.5444906949996948 | cumulative_time: 40.79 seconds\ncomm_round: 272 | global_acc: 94.476% | global_loss: 1.543651819229126 | cumulative_time: 40.94 seconds\ncomm_round: 273 | global_acc: 94.643% | global_loss: 1.54353928565979 | cumulative_time: 41.10 seconds\ncomm_round: 274 | global_acc: 94.500% | global_loss: 1.543487310409546 | cumulative_time: 41.25 seconds\ncomm_round: 275 | global_acc: 94.595% | global_loss: 1.5433108806610107 | cumulative_time: 41.40 seconds\ncomm_round: 276 | global_acc: 94.690% | global_loss: 1.5434319972991943 | cumulative_time: 41.55 seconds\ncomm_round: 277 | global_acc: 94.595% | global_loss: 1.543223261833191 | cumulative_time: 41.70 seconds\ncomm_round: 278 | global_acc: 94.476% | global_loss: 1.543519139289856 | cumulative_time: 41.85 seconds\ncomm_round: 279 | global_acc: 94.595% | global_loss: 1.5427926778793335 | cumulative_time: 42.00 seconds\ncomm_round: 280 | global_acc: 94.548% | global_loss: 1.543375849723816 | cumulative_time: 42.14 seconds\ncomm_round: 281 | global_acc: 94.643% | global_loss: 1.5431588888168335 | cumulative_time: 42.29 seconds\ncomm_round: 282 | global_acc: 94.476% | global_loss: 1.5429824590682983 | cumulative_time: 42.44 seconds\ncomm_round: 283 | global_acc: 94.595% | global_loss: 1.5425784587860107 | cumulative_time: 42.59 seconds\ncomm_round: 284 | global_acc: 94.690% | global_loss: 1.5429836511611938 | cumulative_time: 42.74 seconds\ncomm_round: 285 | global_acc: 94.690% | global_loss: 1.5425442457199097 | cumulative_time: 42.89 seconds\ncomm_round: 286 | global_acc: 94.619% | global_loss: 1.542313575744629 | cumulative_time: 43.04 seconds\ncomm_round: 287 | global_acc: 94.643% | global_loss: 1.5425432920455933 | cumulative_time: 43.19 seconds\ncomm_round: 288 | global_acc: 94.548% | global_loss: 1.542435884475708 | cumulative_time: 43.34 seconds\ncomm_round: 289 | global_acc: 94.452% | global_loss: 1.5426303148269653 | cumulative_time: 43.49 seconds\ncomm_round: 290 | global_acc: 94.690% | global_loss: 1.542061686515808 | cumulative_time: 43.64 seconds\ncomm_round: 291 | global_acc: 94.833% | global_loss: 1.5415098667144775 | cumulative_time: 43.79 seconds\ncomm_round: 292 | global_acc: 94.500% | global_loss: 1.5424038171768188 | cumulative_time: 43.95 seconds\ncomm_round: 293 | global_acc: 94.762% | global_loss: 1.5412136316299438 | cumulative_time: 44.09 seconds\ncomm_round: 294 | global_acc: 94.619% | global_loss: 1.5417914390563965 | cumulative_time: 44.24 seconds\ncomm_round: 295 | global_acc: 94.738% | global_loss: 1.542415976524353 | cumulative_time: 44.39 seconds\ncomm_round: 296 | global_acc: 94.548% | global_loss: 1.5414079427719116 | cumulative_time: 44.54 seconds\ncomm_round: 297 | global_acc: 94.500% | global_loss: 1.5417011976242065 | cumulative_time: 44.70 seconds\ncomm_round: 298 | global_acc: 94.619% | global_loss: 1.540824055671692 | cumulative_time: 44.85 seconds\ncomm_round: 299 | global_acc: 94.500% | global_loss: 1.5408847332000732 | cumulative_time: 45.00 seconds\n",
          "output_type": "stream"
        }
      ]
    },
    {
      "cell_type": "code",
      "source": [
        "# IID\n",
        "import matplotlib.pyplot as plt\n",
        "plt.figure(figsize=(16,4))\n",
        "plt.subplot(121)\n",
        "plt.plot(list(range(0,len(global_loss_list))), global_loss_list)\n",
        "plt.subplot(122)\n",
        "plt.plot(list(range(0,len(global_acc_list))), global_acc_list)\n",
        "print('IID | total comm rounds', len(global_acc_list))"
      ],
      "metadata": {
        "execution": {
          "iopub.status.busy": "2024-08-12T13:01:58.996543Z",
          "iopub.execute_input": "2024-08-12T13:01:58.996992Z",
          "iopub.status.idle": "2024-08-12T13:01:59.339358Z",
          "shell.execute_reply.started": "2024-08-12T13:01:58.996944Z",
          "shell.execute_reply": "2024-08-12T13:01:59.338329Z"
        },
        "trusted": true,
        "id": "38gaW4e8Aqks",
        "outputId": "259612ec-a7a8-42e0-a558-a7c2296c9128"
      },
      "execution_count": null,
      "outputs": [
        {
          "name": "stdout",
          "text": "IID | total comm rounds 300\n",
          "output_type": "stream"
        },
        {
          "output_type": "display_data",
          "data": {
            "text/plain": "<Figure size 1152x288 with 2 Axes>",
            "image/png": "[encoded data removed]"
          },
          "metadata": {
            "needs_background": "light"
          }
        }
      ]
    },
    {
      "cell_type": "code",
      "source": [
        "iid_df = pd.DataFrame(list(zip(global_acc_list, global_loss_list)), columns =['global_acc_list', 'global_loss_list'])\n",
        "iid_df.to_csv('MNIST_IID.csv',index=False)"
      ],
      "metadata": {
        "execution": {
          "iopub.status.busy": "2024-08-12T13:01:59.340714Z",
          "iopub.execute_input": "2024-08-12T13:01:59.341035Z",
          "iopub.status.idle": "2024-08-12T13:01:59.514926Z",
          "shell.execute_reply.started": "2024-08-12T13:01:59.341002Z",
          "shell.execute_reply": "2024-08-12T13:01:59.513752Z"
        },
        "trusted": true,
        "id": "Hbx_QwcYAqks"
      },
      "execution_count": null,
      "outputs": []
    },
    {
      "cell_type": "markdown",
      "source": [
        "### Non-IID"
      ],
      "metadata": {
        "id": "bp2e_y1MAqks"
      }
    },
    {
      "cell_type": "code",
      "source": [
        "def create_clients(image_list, label_list, num_clients=100, initial='clients'):\n",
        "    ''' return: a dictionary with keys clients' names and value as\n",
        "                data shards - tuple of images and label lists.\n",
        "        args:\n",
        "            image_list: a list of numpy arrays of training images\n",
        "            label_list:a list of binarized labels for each image\n",
        "            num_client: number of fedrated members (clients)\n",
        "            initials: the clients'name prefix, e.g, clients_1\n",
        "\n",
        "    '''\n",
        "\n",
        "    #create a list of client names\n",
        "    client_names = ['{}_{}'.format(initial, i+1) for i in range(num_clients)]\n",
        "\n",
        "    #randomize the data\n",
        "    # data = list(zip(image_list, label_list))\n",
        "    # random.shuffle(data)  # <- IID\n",
        "\n",
        "    # sort data for non-iid\n",
        "    max_y = np.argmax(label_list, axis=-1)\n",
        "    sorted_zip = sorted(zip(max_y, label_list, image_list), key=lambda x: x[0])\n",
        "    data = [(x,y) for _,y,x in sorted_zip]\n",
        "\n",
        "    #shard data and place at each client\n",
        "    size = len(data)//num_clients\n",
        "    shards = [data[i:i + size] for i in range(0, size*num_clients, size)]\n",
        "\n",
        "    #number of clients must equal number of shards\n",
        "    assert(len(shards) == len(client_names))\n",
        "\n",
        "    return {client_names[i] : shards[i] for i in range(len(client_names))}"
      ],
      "metadata": {
        "execution": {
          "iopub.status.busy": "2024-08-12T13:01:59.516465Z",
          "iopub.execute_input": "2024-08-12T13:01:59.516845Z",
          "iopub.status.idle": "2024-08-12T13:01:59.526555Z",
          "shell.execute_reply.started": "2024-08-12T13:01:59.516811Z",
          "shell.execute_reply": "2024-08-12T13:01:59.525473Z"
        },
        "trusted": true,
        "id": "wIrPcUWkAqkt"
      },
      "execution_count": null,
      "outputs": []
    },
    {
      "cell_type": "code",
      "source": [],
      "metadata": {
        "id": "4DoTJUFbAqkt"
      },
      "execution_count": null,
      "outputs": []
    },
    {
      "cell_type": "code",
      "source": [
        "len(X_train), len(X_test), len(y_train), len(y_test)"
      ],
      "metadata": {
        "execution": {
          "iopub.status.busy": "2024-08-12T13:01:59.528074Z",
          "iopub.execute_input": "2024-08-12T13:01:59.528534Z",
          "iopub.status.idle": "2024-08-12T13:01:59.540245Z",
          "shell.execute_reply.started": "2024-08-12T13:01:59.528489Z",
          "shell.execute_reply": "2024-08-12T13:01:59.539273Z"
        },
        "trusted": true,
        "id": "gLDVwgcIAqkt",
        "outputId": "436fe8c9-bb7f-45c8-fbe7-71d343c2e013"
      },
      "execution_count": null,
      "outputs": [
        {
          "execution_count": 18,
          "output_type": "execute_result",
          "data": {
            "text/plain": "(37800, 4200, 37800, 4200)"
          },
          "metadata": {}
        }
      ]
    },
    {
      "cell_type": "code",
      "source": [
        "#create clients\n",
        "clients = create_clients(X_train, y_train, num_clients=100, initial='client')"
      ],
      "metadata": {
        "execution": {
          "iopub.status.busy": "2024-08-12T13:01:59.541634Z",
          "iopub.execute_input": "2024-08-12T13:01:59.541994Z",
          "iopub.status.idle": "2024-08-12T13:01:59.639546Z",
          "shell.execute_reply.started": "2024-08-12T13:01:59.541958Z",
          "shell.execute_reply": "2024-08-12T13:01:59.638667Z"
        },
        "trusted": true,
        "id": "h4kMbr6-Aqkt"
      },
      "execution_count": null,
      "outputs": []
    },
    {
      "cell_type": "code",
      "source": [
        "#process and batch the training data for each client\n",
        "clients_batched = dict()\n",
        "for (client_name, data) in clients.items():\n",
        "    clients_batched[client_name] = batch_data(data)\n",
        "\n",
        "#process and batch the test set\n",
        "test_batched = tf.data.Dataset.from_tensor_slices((X_test, y_test)).batch(len(y_test))"
      ],
      "metadata": {
        "execution": {
          "iopub.status.busy": "2024-08-12T13:01:59.64136Z",
          "iopub.execute_input": "2024-08-12T13:01:59.641663Z",
          "iopub.status.idle": "2024-08-12T13:02:09.169962Z",
          "shell.execute_reply.started": "2024-08-12T13:01:59.641634Z",
          "shell.execute_reply": "2024-08-12T13:02:09.169059Z"
        },
        "trusted": true,
        "id": "GdqwRp5EAqkt"
      },
      "execution_count": null,
      "outputs": []
    },
    {
      "cell_type": "code",
      "source": [
        "lr = 0.01\n",
        "# lr = 0.0001\n",
        "comms_round = 300\n",
        "#loss='categorical_crossentropy'\n",
        "loss = 'binary_crossentropy'\n",
        "metrics = ['accuracy']\n",
        "optimizer = SGD(lr=lr,\n",
        "                decay=lr / comms_round,\n",
        "                momentum=0.9\n",
        "               )"
      ],
      "metadata": {
        "execution": {
          "iopub.status.busy": "2024-08-12T13:02:09.171353Z",
          "iopub.execute_input": "2024-08-12T13:02:09.171683Z",
          "iopub.status.idle": "2024-08-12T13:02:09.176702Z",
          "shell.execute_reply.started": "2024-08-12T13:02:09.171653Z",
          "shell.execute_reply": "2024-08-12T13:02:09.175761Z"
        },
        "trusted": true,
        "id": "qi_Y9X4WAqkt"
      },
      "execution_count": null,
      "outputs": []
    },
    {
      "cell_type": "code",
      "source": [
        "#initialize global model\n",
        "\n",
        "build_shape = 784 #(32, 32, 3)  # 1024 <- CIFAR-10    # 784 # for MNIST # 1024 <- RealAIGI\n",
        "\n",
        "#smlp_global = SimpleMLP()\n",
        "smlp_global = MACNN()\n",
        "global_model = smlp_global.build(build_shape, 10)\n",
        "global_acc_list = []\n",
        "global_loss_list = []"
      ],
      "metadata": {
        "execution": {
          "iopub.status.busy": "2024-08-12T13:02:09.178013Z",
          "iopub.execute_input": "2024-08-12T13:02:09.178362Z",
          "iopub.status.idle": "2024-08-12T13:02:09.222603Z",
          "shell.execute_reply.started": "2024-08-12T13:02:09.178329Z",
          "shell.execute_reply": "2024-08-12T13:02:09.221762Z"
        },
        "trusted": true,
        "id": "ZvaJILOZAqkt"
      },
      "execution_count": null,
      "outputs": []
    },
    {
      "cell_type": "code",
      "source": [
        "#commence global training loop\n",
        "for comm_round in range(comms_round):\n",
        "\n",
        "    # get the global model's weights - will serve as the initial weights for all local models\n",
        "    global_weights = global_model.get_weights()\n",
        "\n",
        "    #initial list to collect local model weights after scalling\n",
        "    scaled_local_weight_list = list()\n",
        "\n",
        "    #randomize client data - using keys\n",
        "    all_client_names = list(clients_batched.keys())\n",
        "\n",
        "    client_names = random.sample(all_client_names, k=10)\n",
        "    random.shuffle(client_names)\n",
        "    if debug:\n",
        "        # print('all_client_names', all_client_names)\n",
        "        print('client_names', client_names)\n",
        "\n",
        "    #loop through each client and create new local model\n",
        "    for client in client_names:\n",
        "        #smlp_local = SimpleMLP()\n",
        "        smlp_global = MACNN()\n",
        "        local_model = smlp_local.build(build_shape, 10)\n",
        "        local_model.compile(loss=loss,\n",
        "                      optimizer=optimizer,\n",
        "                      metrics=metrics)\n",
        "\n",
        "        #set local model weight to the weight of the global model\n",
        "        local_model.set_weights(global_weights)\n",
        "\n",
        "        #fit local model with client's data\n",
        "        local_model.fit(clients_batched[client], epochs=1, verbose=0)\n",
        "\n",
        "        #scale the model weights and add to list\n",
        "        scaling_factor = 0.1 # weight_scalling_factor(clients_batched, client)\n",
        "        scaled_weights = scale_model_weights(local_model.get_weights(), scaling_factor)\n",
        "        scaled_local_weight_list.append(scaled_weights)\n",
        "\n",
        "        #clear session to free memory after each communication round\n",
        "        K.clear_session()\n",
        "\n",
        "    #to get the average over all the local model, we simply take the sum of the scaled weights\n",
        "    average_weights = sum_scaled_weights(scaled_local_weight_list)\n",
        "\n",
        "    #update global model\n",
        "    global_model.set_weights(average_weights)\n",
        "\n",
        "    #test global model and print out metrics after each communications round\n",
        "    for(X_test, Y_test) in test_batched:\n",
        "        global_acc, global_loss = test_model(X_test, Y_test, global_model, comm_round)\n",
        "        global_acc_list.append(global_acc)\n",
        "        global_loss_list.append(global_loss)"
      ],
      "metadata": {
        "execution": {
          "iopub.status.busy": "2024-08-12T13:02:09.223917Z",
          "iopub.execute_input": "2024-08-12T13:02:09.22425Z",
          "iopub.status.idle": "2024-08-12T13:30:04.705693Z",
          "shell.execute_reply.started": "2024-08-12T13:02:09.224204Z",
          "shell.execute_reply": "2024-08-12T13:30:04.704569Z"
        },
        "trusted": true,
        "id": "n1waYhkAAqku",
        "outputId": "8bf3ddf5-d465-4953-f053-9a283488383b"
      },
      "execution_count": null,
      "outputs": [
        {
          "name": "stdout",
          "text": "comm_round: 0 | global_acc: 9.190% | global_loss: 2.302341938018799 | cumulative_time: 45.18 seconds\ncomm_round: 1 | global_acc: 14.024% | global_loss: 2.268569231033325 | cumulative_time: 45.33 seconds\ncomm_round: 2 | global_acc: 25.048% | global_loss: 2.233290910720825 | cumulative_time: 45.48 seconds\ncomm_round: 3 | global_acc: 25.786% | global_loss: 2.2300169467926025 | cumulative_time: 45.63 seconds\ncomm_round: 4 | global_acc: 35.048% | global_loss: 2.1968514919281006 | cumulative_time: 45.78 seconds\ncomm_round: 5 | global_acc: 21.929% | global_loss: 2.219078302383423 | cumulative_time: 45.93 seconds\ncomm_round: 6 | global_acc: 45.286% | global_loss: 2.1506009101867676 | cumulative_time: 46.08 seconds\ncomm_round: 7 | global_acc: 33.381% | global_loss: 2.1457102298736572 | cumulative_time: 46.24 seconds\ncomm_round: 8 | global_acc: 33.476% | global_loss: 2.1845316886901855 | cumulative_time: 46.39 seconds\ncomm_round: 9 | global_acc: 24.571% | global_loss: 2.181304931640625 | cumulative_time: 46.54 seconds\ncomm_round: 10 | global_acc: 33.905% | global_loss: 2.1720082759857178 | cumulative_time: 46.69 seconds\ncomm_round: 11 | global_acc: 38.476% | global_loss: 2.107595920562744 | cumulative_time: 46.84 seconds\ncomm_round: 12 | global_acc: 38.357% | global_loss: 2.1112220287323 | cumulative_time: 47.01 seconds\ncomm_round: 13 | global_acc: 38.405% | global_loss: 2.0788393020629883 | cumulative_time: 47.16 seconds\ncomm_round: 14 | global_acc: 53.714% | global_loss: 2.032738208770752 | cumulative_time: 47.31 seconds\ncomm_round: 15 | global_acc: 51.024% | global_loss: 2.02461314201355 | cumulative_time: 47.46 seconds\ncomm_round: 16 | global_acc: 49.429% | global_loss: 2.020843982696533 | cumulative_time: 47.60 seconds\ncomm_round: 17 | global_acc: 52.571% | global_loss: 2.0228002071380615 | cumulative_time: 47.75 seconds\ncomm_round: 18 | global_acc: 52.095% | global_loss: 2.024665355682373 | cumulative_time: 47.90 seconds\ncomm_round: 19 | global_acc: 64.500% | global_loss: 1.9504311084747314 | cumulative_time: 48.04 seconds\ncomm_round: 20 | global_acc: 59.690% | global_loss: 1.9466674327850342 | cumulative_time: 48.19 seconds\ncomm_round: 21 | global_acc: 50.500% | global_loss: 1.9824795722961426 | cumulative_time: 48.34 seconds\ncomm_round: 22 | global_acc: 66.571% | global_loss: 1.8933727741241455 | cumulative_time: 48.48 seconds\ncomm_round: 23 | global_acc: 75.738% | global_loss: 1.8612574338912964 | cumulative_time: 48.63 seconds\ncomm_round: 24 | global_acc: 64.405% | global_loss: 1.9142745733261108 | cumulative_time: 48.78 seconds\ncomm_round: 25 | global_acc: 68.905% | global_loss: 1.8519642353057861 | cumulative_time: 48.97 seconds\ncomm_round: 26 | global_acc: 70.476% | global_loss: 1.8658066987991333 | cumulative_time: 49.12 seconds\ncomm_round: 27 | global_acc: 71.405% | global_loss: 1.8622194528579712 | cumulative_time: 49.27 seconds\ncomm_round: 28 | global_acc: 66.714% | global_loss: 1.8613653182983398 | cumulative_time: 49.42 seconds\ncomm_round: 29 | global_acc: 62.929% | global_loss: 1.9114247560501099 | cumulative_time: 49.57 seconds\ncomm_round: 30 | global_acc: 68.690% | global_loss: 1.8690922260284424 | cumulative_time: 49.72 seconds\ncomm_round: 31 | global_acc: 63.405% | global_loss: 1.8770816326141357 | cumulative_time: 49.87 seconds\ncomm_round: 32 | global_acc: 67.786% | global_loss: 1.8334932327270508 | cumulative_time: 50.02 seconds\ncomm_round: 33 | global_acc: 73.024% | global_loss: 1.8077865839004517 | cumulative_time: 50.18 seconds\ncomm_round: 34 | global_acc: 71.619% | global_loss: 1.809363603591919 | cumulative_time: 50.33 seconds\ncomm_round: 35 | global_acc: 69.357% | global_loss: 1.8325233459472656 | cumulative_time: 50.47 seconds\ncomm_round: 36 | global_acc: 72.929% | global_loss: 1.8367271423339844 | cumulative_time: 50.62 seconds\ncomm_round: 37 | global_acc: 80.310% | global_loss: 1.7779350280761719 | cumulative_time: 50.77 seconds\ncomm_round: 38 | global_acc: 65.524% | global_loss: 1.8621618747711182 | cumulative_time: 50.91 seconds\ncomm_round: 39 | global_acc: 71.167% | global_loss: 1.8161919116973877 | cumulative_time: 51.06 seconds\ncomm_round: 40 | global_acc: 76.119% | global_loss: 1.7787909507751465 | cumulative_time: 51.22 seconds\ncomm_round: 41 | global_acc: 77.119% | global_loss: 1.7839189767837524 | cumulative_time: 51.37 seconds\ncomm_round: 42 | global_acc: 74.119% | global_loss: 1.7852500677108765 | cumulative_time: 51.52 seconds\ncomm_round: 43 | global_acc: 72.929% | global_loss: 1.8009029626846313 | cumulative_time: 51.67 seconds\ncomm_round: 44 | global_acc: 70.286% | global_loss: 1.811182975769043 | cumulative_time: 51.82 seconds\ncomm_round: 45 | global_acc: 75.024% | global_loss: 1.7720880508422852 | cumulative_time: 51.97 seconds\ncomm_round: 46 | global_acc: 50.929% | global_loss: 1.9770251512527466 | cumulative_time: 52.12 seconds\ncomm_round: 47 | global_acc: 75.690% | global_loss: 1.7882804870605469 | cumulative_time: 52.27 seconds\ncomm_round: 48 | global_acc: 73.548% | global_loss: 1.7910319566726685 | cumulative_time: 52.42 seconds\ncomm_round: 49 | global_acc: 84.190% | global_loss: 1.72943115234375 | cumulative_time: 52.58 seconds\ncomm_round: 50 | global_acc: 80.262% | global_loss: 1.73557448387146 | cumulative_time: 52.73 seconds\ncomm_round: 51 | global_acc: 81.190% | global_loss: 1.738925814628601 | cumulative_time: 52.87 seconds\ncomm_round: 52 | global_acc: 82.262% | global_loss: 1.7306698560714722 | cumulative_time: 53.02 seconds\ncomm_round: 53 | global_acc: 78.095% | global_loss: 1.7418577671051025 | cumulative_time: 53.17 seconds\ncomm_round: 54 | global_acc: 77.833% | global_loss: 1.7798693180084229 | cumulative_time: 53.32 seconds\ncomm_round: 55 | global_acc: 75.929% | global_loss: 1.7841637134552002 | cumulative_time: 53.47 seconds\ncomm_round: 56 | global_acc: 79.881% | global_loss: 1.7497307062149048 | cumulative_time: 53.62 seconds\ncomm_round: 57 | global_acc: 72.952% | global_loss: 1.7948254346847534 | cumulative_time: 53.78 seconds\ncomm_round: 58 | global_acc: 73.095% | global_loss: 1.7986599206924438 | cumulative_time: 53.93 seconds\ncomm_round: 59 | global_acc: 79.929% | global_loss: 1.7388052940368652 | cumulative_time: 54.08 seconds\ncomm_round: 60 | global_acc: 70.452% | global_loss: 1.8076081275939941 | cumulative_time: 54.23 seconds\ncomm_round: 61 | global_acc: 78.167% | global_loss: 1.7480109930038452 | cumulative_time: 54.38 seconds\ncomm_round: 62 | global_acc: 74.286% | global_loss: 1.7621816396713257 | cumulative_time: 54.53 seconds\ncomm_round: 63 | global_acc: 77.905% | global_loss: 1.7287989854812622 | cumulative_time: 54.69 seconds\ncomm_round: 64 | global_acc: 81.762% | global_loss: 1.7206288576126099 | cumulative_time: 54.85 seconds\ncomm_round: 65 | global_acc: 81.714% | global_loss: 1.717220425605774 | cumulative_time: 55.00 seconds\ncomm_round: 66 | global_acc: 81.976% | global_loss: 1.720322608947754 | cumulative_time: 55.15 seconds\ncomm_round: 67 | global_acc: 77.667% | global_loss: 1.752191424369812 | cumulative_time: 55.30 seconds\ncomm_round: 68 | global_acc: 78.714% | global_loss: 1.7298698425292969 | cumulative_time: 55.45 seconds\ncomm_round: 69 | global_acc: 76.667% | global_loss: 1.7582591772079468 | cumulative_time: 55.60 seconds\ncomm_round: 70 | global_acc: 80.310% | global_loss: 1.7281897068023682 | cumulative_time: 55.75 seconds\ncomm_round: 71 | global_acc: 85.048% | global_loss: 1.6900602579116821 | cumulative_time: 55.90 seconds\ncomm_round: 72 | global_acc: 85.000% | global_loss: 1.6906930208206177 | cumulative_time: 56.05 seconds\ncomm_round: 73 | global_acc: 85.381% | global_loss: 1.6880608797073364 | cumulative_time: 56.19 seconds\ncomm_round: 74 | global_acc: 82.143% | global_loss: 1.7174482345581055 | cumulative_time: 56.35 seconds\ncomm_round: 75 | global_acc: 84.619% | global_loss: 1.6974494457244873 | cumulative_time: 56.49 seconds\ncomm_round: 76 | global_acc: 85.905% | global_loss: 1.6872711181640625 | cumulative_time: 56.66 seconds\ncomm_round: 77 | global_acc: 81.738% | global_loss: 1.7054238319396973 | cumulative_time: 56.81 seconds\ncomm_round: 78 | global_acc: 85.738% | global_loss: 1.6784532070159912 | cumulative_time: 56.96 seconds\ncomm_round: 79 | global_acc: 82.500% | global_loss: 1.709197998046875 | cumulative_time: 57.12 seconds\ncomm_round: 80 | global_acc: 83.833% | global_loss: 1.6958726644515991 | cumulative_time: 57.26 seconds\ncomm_round: 81 | global_acc: 82.429% | global_loss: 1.7020081281661987 | cumulative_time: 57.41 seconds\ncomm_round: 82 | global_acc: 69.500% | global_loss: 1.7995727062225342 | cumulative_time: 57.58 seconds\ncomm_round: 83 | global_acc: 82.071% | global_loss: 1.7010865211486816 | cumulative_time: 57.73 seconds\ncomm_round: 84 | global_acc: 80.619% | global_loss: 1.7133195400238037 | cumulative_time: 57.89 seconds\ncomm_round: 85 | global_acc: 85.500% | global_loss: 1.6778548955917358 | cumulative_time: 58.04 seconds\ncomm_round: 86 | global_acc: 84.500% | global_loss: 1.6877226829528809 | cumulative_time: 58.19 seconds\ncomm_round: 87 | global_acc: 80.857% | global_loss: 1.7120696306228638 | cumulative_time: 58.33 seconds\ncomm_round: 88 | global_acc: 85.286% | global_loss: 1.6802066564559937 | cumulative_time: 58.49 seconds\ncomm_round: 89 | global_acc: 80.238% | global_loss: 1.7165645360946655 | cumulative_time: 58.64 seconds\ncomm_round: 90 | global_acc: 84.738% | global_loss: 1.6874313354492188 | cumulative_time: 58.79 seconds\ncomm_round: 91 | global_acc: 84.000% | global_loss: 1.6818463802337646 | cumulative_time: 58.94 seconds\ncomm_round: 92 | global_acc: 87.119% | global_loss: 1.6685198545455933 | cumulative_time: 59.09 seconds\ncomm_round: 93 | global_acc: 84.619% | global_loss: 1.6772929430007935 | cumulative_time: 59.24 seconds\ncomm_round: 94 | global_acc: 82.000% | global_loss: 1.6961755752563477 | cumulative_time: 59.39 seconds\ncomm_round: 95 | global_acc: 83.214% | global_loss: 1.688912034034729 | cumulative_time: 59.53 seconds\ncomm_round: 96 | global_acc: 74.643% | global_loss: 1.7411365509033203 | cumulative_time: 59.68 seconds\ncomm_round: 97 | global_acc: 84.071% | global_loss: 1.6784286499023438 | cumulative_time: 59.82 seconds\ncomm_round: 98 | global_acc: 81.000% | global_loss: 1.6946362257003784 | cumulative_time: 59.97 seconds\ncomm_round: 99 | global_acc: 85.143% | global_loss: 1.6764180660247803 | cumulative_time: 60.14 seconds\ncomm_round: 100 | global_acc: 86.524% | global_loss: 1.6668815612792969 | cumulative_time: 60.29 seconds\ncomm_round: 101 | global_acc: 81.786% | global_loss: 1.6926183700561523 | cumulative_time: 60.44 seconds\ncomm_round: 102 | global_acc: 78.786% | global_loss: 1.7109217643737793 | cumulative_time: 60.59 seconds\ncomm_round: 103 | global_acc: 84.762% | global_loss: 1.6814017295837402 | cumulative_time: 60.75 seconds\ncomm_round: 104 | global_acc: 86.190% | global_loss: 1.6620583534240723 | cumulative_time: 60.90 seconds\ncomm_round: 105 | global_acc: 85.071% | global_loss: 1.6707932949066162 | cumulative_time: 61.05 seconds\ncomm_round: 106 | global_acc: 86.952% | global_loss: 1.655074119567871 | cumulative_time: 61.20 seconds\ncomm_round: 107 | global_acc: 86.238% | global_loss: 1.6586334705352783 | cumulative_time: 61.34 seconds\ncomm_round: 108 | global_acc: 81.286% | global_loss: 1.7065201997756958 | cumulative_time: 61.50 seconds\ncomm_round: 109 | global_acc: 80.762% | global_loss: 1.7050082683563232 | cumulative_time: 61.64 seconds\ncomm_round: 110 | global_acc: 76.143% | global_loss: 1.7535514831542969 | cumulative_time: 61.78 seconds\ncomm_round: 111 | global_acc: 82.905% | global_loss: 1.687057375907898 | cumulative_time: 61.93 seconds\ncomm_round: 112 | global_acc: 71.905% | global_loss: 1.7649204730987549 | cumulative_time: 62.08 seconds\ncomm_round: 113 | global_acc: 78.952% | global_loss: 1.7120378017425537 | cumulative_time: 62.23 seconds\ncomm_round: 114 | global_acc: 86.714% | global_loss: 1.6587371826171875 | cumulative_time: 62.40 seconds\ncomm_round: 115 | global_acc: 85.238% | global_loss: 1.6695010662078857 | cumulative_time: 62.55 seconds\ncomm_round: 116 | global_acc: 84.024% | global_loss: 1.6737518310546875 | cumulative_time: 62.70 seconds\ncomm_round: 117 | global_acc: 85.571% | global_loss: 1.6578372716903687 | cumulative_time: 62.85 seconds\ncomm_round: 118 | global_acc: 81.167% | global_loss: 1.7094403505325317 | cumulative_time: 63.00 seconds\ncomm_round: 119 | global_acc: 81.024% | global_loss: 1.7062126398086548 | cumulative_time: 63.15 seconds\ncomm_round: 120 | global_acc: 84.643% | global_loss: 1.67009437084198 | cumulative_time: 63.31 seconds\ncomm_round: 121 | global_acc: 85.762% | global_loss: 1.6633304357528687 | cumulative_time: 63.46 seconds\ncomm_round: 122 | global_acc: 85.619% | global_loss: 1.6629201173782349 | cumulative_time: 63.61 seconds\ncomm_round: 123 | global_acc: 87.381% | global_loss: 1.6456576585769653 | cumulative_time: 63.76 seconds\ncomm_round: 124 | global_acc: 84.714% | global_loss: 1.676802158355713 | cumulative_time: 63.90 seconds\ncomm_round: 125 | global_acc: 84.690% | global_loss: 1.6628445386886597 | cumulative_time: 64.05 seconds\ncomm_round: 126 | global_acc: 88.357% | global_loss: 1.638641357421875 | cumulative_time: 64.21 seconds\ncomm_round: 127 | global_acc: 87.262% | global_loss: 1.649038553237915 | cumulative_time: 64.36 seconds\ncomm_round: 128 | global_acc: 86.429% | global_loss: 1.660904049873352 | cumulative_time: 64.51 seconds\ncomm_round: 129 | global_acc: 88.762% | global_loss: 1.642336368560791 | cumulative_time: 64.66 seconds\ncomm_round: 130 | global_acc: 88.643% | global_loss: 1.6383435726165771 | cumulative_time: 64.81 seconds\ncomm_round: 131 | global_acc: 84.905% | global_loss: 1.6747698783874512 | cumulative_time: 64.96 seconds\ncomm_round: 132 | global_acc: 76.262% | global_loss: 1.744711995124817 | cumulative_time: 65.11 seconds\ncomm_round: 133 | global_acc: 87.262% | global_loss: 1.6483186483383179 | cumulative_time: 65.26 seconds\ncomm_round: 134 | global_acc: 83.667% | global_loss: 1.6671109199523926 | cumulative_time: 65.41 seconds\ncomm_round: 135 | global_acc: 88.000% | global_loss: 1.641880989074707 | cumulative_time: 65.56 seconds\ncomm_round: 136 | global_acc: 84.452% | global_loss: 1.6732906103134155 | cumulative_time: 65.71 seconds\ncomm_round: 137 | global_acc: 87.619% | global_loss: 1.6454298496246338 | cumulative_time: 65.87 seconds\ncomm_round: 138 | global_acc: 84.929% | global_loss: 1.6586486101150513 | cumulative_time: 66.02 seconds\ncomm_round: 139 | global_acc: 83.952% | global_loss: 1.6753950119018555 | cumulative_time: 66.16 seconds\ncomm_round: 140 | global_acc: 66.048% | global_loss: 1.8260458707809448 | cumulative_time: 66.31 seconds\ncomm_round: 141 | global_acc: 82.643% | global_loss: 1.6870583295822144 | cumulative_time: 66.46 seconds\ncomm_round: 142 | global_acc: 86.929% | global_loss: 1.6480023860931396 | cumulative_time: 66.61 seconds\ncomm_round: 143 | global_acc: 87.214% | global_loss: 1.6433827877044678 | cumulative_time: 66.76 seconds\ncomm_round: 144 | global_acc: 89.071% | global_loss: 1.6350640058517456 | cumulative_time: 66.93 seconds\ncomm_round: 145 | global_acc: 87.524% | global_loss: 1.6408576965332031 | cumulative_time: 67.08 seconds\ncomm_round: 146 | global_acc: 87.238% | global_loss: 1.6487479209899902 | cumulative_time: 67.22 seconds\ncomm_round: 147 | global_acc: 88.167% | global_loss: 1.6423977613449097 | cumulative_time: 67.38 seconds\ncomm_round: 148 | global_acc: 80.071% | global_loss: 1.7021433115005493 | cumulative_time: 67.52 seconds\ncomm_round: 149 | global_acc: 79.905% | global_loss: 1.6996021270751953 | cumulative_time: 67.67 seconds\ncomm_round: 150 | global_acc: 82.429% | global_loss: 1.679201364517212 | cumulative_time: 67.82 seconds\ncomm_round: 151 | global_acc: 89.119% | global_loss: 1.6305485963821411 | cumulative_time: 67.96 seconds\ncomm_round: 152 | global_acc: 87.690% | global_loss: 1.6458021402359009 | cumulative_time: 68.11 seconds\ncomm_round: 153 | global_acc: 88.476% | global_loss: 1.632004976272583 | cumulative_time: 68.26 seconds\ncomm_round: 154 | global_acc: 89.810% | global_loss: 1.6228615045547485 | cumulative_time: 68.40 seconds\ncomm_round: 155 | global_acc: 89.381% | global_loss: 1.6297972202301025 | cumulative_time: 68.55 seconds\ncomm_round: 156 | global_acc: 88.571% | global_loss: 1.6291025876998901 | cumulative_time: 68.69 seconds\ncomm_round: 157 | global_acc: 89.833% | global_loss: 1.6201205253601074 | cumulative_time: 68.84 seconds\ncomm_round: 158 | global_acc: 84.667% | global_loss: 1.6625845432281494 | cumulative_time: 68.99 seconds\ncomm_round: 159 | global_acc: 86.714% | global_loss: 1.640891432762146 | cumulative_time: 69.14 seconds\ncomm_round: 160 | global_acc: 88.452% | global_loss: 1.6432671546936035 | cumulative_time: 69.29 seconds\ncomm_round: 161 | global_acc: 88.929% | global_loss: 1.6324360370635986 | cumulative_time: 69.44 seconds\ncomm_round: 162 | global_acc: 88.762% | global_loss: 1.6360573768615723 | cumulative_time: 69.59 seconds\ncomm_round: 163 | global_acc: 88.333% | global_loss: 1.633381962776184 | cumulative_time: 69.75 seconds\ncomm_round: 164 | global_acc: 89.024% | global_loss: 1.6258721351623535 | cumulative_time: 69.90 seconds\ncomm_round: 165 | global_acc: 86.333% | global_loss: 1.6566858291625977 | cumulative_time: 70.05 seconds\ncomm_round: 166 | global_acc: 84.643% | global_loss: 1.663528323173523 | cumulative_time: 70.20 seconds\ncomm_round: 167 | global_acc: 86.429% | global_loss: 1.6468106508255005 | cumulative_time: 70.35 seconds\ncomm_round: 168 | global_acc: 83.119% | global_loss: 1.6779371500015259 | cumulative_time: 70.49 seconds\ncomm_round: 169 | global_acc: 81.262% | global_loss: 1.6888012886047363 | cumulative_time: 70.64 seconds\ncomm_round: 170 | global_acc: 84.452% | global_loss: 1.6543070077896118 | cumulative_time: 70.78 seconds\ncomm_round: 171 | global_acc: 90.095% | global_loss: 1.6161826848983765 | cumulative_time: 70.92 seconds\ncomm_round: 172 | global_acc: 87.024% | global_loss: 1.642659306526184 | cumulative_time: 71.08 seconds\ncomm_round: 173 | global_acc: 86.214% | global_loss: 1.641485571861267 | cumulative_time: 71.23 seconds\ncomm_round: 174 | global_acc: 89.595% | global_loss: 1.6235692501068115 | cumulative_time: 71.38 seconds\ncomm_round: 175 | global_acc: 88.667% | global_loss: 1.6265264749526978 | cumulative_time: 71.53 seconds\ncomm_round: 176 | global_acc: 85.810% | global_loss: 1.6514532566070557 | cumulative_time: 71.69 seconds\ncomm_round: 177 | global_acc: 87.571% | global_loss: 1.6379622220993042 | cumulative_time: 71.84 seconds\ncomm_round: 178 | global_acc: 89.952% | global_loss: 1.621228814125061 | cumulative_time: 72.00 seconds\ncomm_round: 179 | global_acc: 88.833% | global_loss: 1.6267825365066528 | cumulative_time: 72.15 seconds\ncomm_round: 180 | global_acc: 82.643% | global_loss: 1.6854935884475708 | cumulative_time: 72.30 seconds\ncomm_round: 181 | global_acc: 78.786% | global_loss: 1.7113268375396729 | cumulative_time: 72.45 seconds\ncomm_round: 182 | global_acc: 87.810% | global_loss: 1.633703589439392 | cumulative_time: 72.59 seconds\ncomm_round: 183 | global_acc: 86.238% | global_loss: 1.6463735103607178 | cumulative_time: 72.74 seconds\ncomm_round: 184 | global_acc: 89.452% | global_loss: 1.624200701713562 | cumulative_time: 72.89 seconds\ncomm_round: 185 | global_acc: 89.952% | global_loss: 1.6225558519363403 | cumulative_time: 73.05 seconds\ncomm_round: 186 | global_acc: 90.405% | global_loss: 1.6178476810455322 | cumulative_time: 73.20 seconds\ncomm_round: 187 | global_acc: 89.500% | global_loss: 1.6234519481658936 | cumulative_time: 73.35 seconds\ncomm_round: 188 | global_acc: 89.833% | global_loss: 1.6190015077590942 | cumulative_time: 73.50 seconds\ncomm_round: 189 | global_acc: 90.262% | global_loss: 1.6139495372772217 | cumulative_time: 73.65 seconds\ncomm_round: 190 | global_acc: 90.214% | global_loss: 1.6110923290252686 | cumulative_time: 73.80 seconds\ncomm_round: 191 | global_acc: 90.167% | global_loss: 1.614985704421997 | cumulative_time: 73.95 seconds\ncomm_round: 192 | global_acc: 87.190% | global_loss: 1.6485925912857056 | cumulative_time: 74.10 seconds\ncomm_round: 193 | global_acc: 86.357% | global_loss: 1.642885684967041 | cumulative_time: 74.26 seconds\ncomm_round: 194 | global_acc: 90.619% | global_loss: 1.6106232404708862 | cumulative_time: 74.41 seconds\ncomm_round: 195 | global_acc: 90.071% | global_loss: 1.6170241832733154 | cumulative_time: 74.57 seconds\ncomm_round: 196 | global_acc: 89.500% | global_loss: 1.621002435684204 | cumulative_time: 74.72 seconds\ncomm_round: 197 | global_acc: 86.381% | global_loss: 1.646557092666626 | cumulative_time: 74.87 seconds\ncomm_round: 198 | global_acc: 89.476% | global_loss: 1.6211682558059692 | cumulative_time: 75.01 seconds\ncomm_round: 199 | global_acc: 88.071% | global_loss: 1.6254605054855347 | cumulative_time: 75.16 seconds\ncomm_round: 200 | global_acc: 90.357% | global_loss: 1.6094071865081787 | cumulative_time: 75.32 seconds\ncomm_round: 201 | global_acc: 89.714% | global_loss: 1.6126112937927246 | cumulative_time: 75.47 seconds\ncomm_round: 202 | global_acc: 89.357% | global_loss: 1.6159648895263672 | cumulative_time: 75.63 seconds\ncomm_round: 203 | global_acc: 88.738% | global_loss: 1.6210167407989502 | cumulative_time: 75.78 seconds\ncomm_round: 204 | global_acc: 91.071% | global_loss: 1.6034575700759888 | cumulative_time: 75.94 seconds\ncomm_round: 205 | global_acc: 89.714% | global_loss: 1.622626781463623 | cumulative_time: 76.09 seconds\ncomm_round: 206 | global_acc: 91.095% | global_loss: 1.6038661003112793 | cumulative_time: 76.24 seconds\ncomm_round: 207 | global_acc: 84.524% | global_loss: 1.6588380336761475 | cumulative_time: 76.40 seconds\ncomm_round: 208 | global_acc: 90.214% | global_loss: 1.615057110786438 | cumulative_time: 76.55 seconds\ncomm_round: 209 | global_acc: 89.262% | global_loss: 1.6149983406066895 | cumulative_time: 76.70 seconds\ncomm_round: 210 | global_acc: 87.429% | global_loss: 1.6348876953125 | cumulative_time: 76.85 seconds\ncomm_round: 211 | global_acc: 89.238% | global_loss: 1.6167420148849487 | cumulative_time: 77.00 seconds\ncomm_round: 212 | global_acc: 88.262% | global_loss: 1.6290735006332397 | cumulative_time: 77.15 seconds\ncomm_round: 213 | global_acc: 88.738% | global_loss: 1.6209068298339844 | cumulative_time: 77.30 seconds\ncomm_round: 214 | global_acc: 88.548% | global_loss: 1.6213676929473877 | cumulative_time: 77.45 seconds\ncomm_round: 215 | global_acc: 90.333% | global_loss: 1.6102724075317383 | cumulative_time: 77.60 seconds\ncomm_round: 216 | global_acc: 87.405% | global_loss: 1.6296404600143433 | cumulative_time: 77.75 seconds\ncomm_round: 217 | global_acc: 89.238% | global_loss: 1.616563320159912 | cumulative_time: 77.90 seconds\ncomm_round: 218 | global_acc: 89.643% | global_loss: 1.6166696548461914 | cumulative_time: 78.06 seconds\ncomm_round: 219 | global_acc: 85.452% | global_loss: 1.6570743322372437 | cumulative_time: 78.21 seconds\ncomm_round: 220 | global_acc: 90.500% | global_loss: 1.6070858240127563 | cumulative_time: 78.36 seconds\ncomm_round: 221 | global_acc: 91.500% | global_loss: 1.6007211208343506 | cumulative_time: 78.55 seconds\ncomm_round: 222 | global_acc: 89.310% | global_loss: 1.6180791854858398 | cumulative_time: 78.72 seconds\ncomm_round: 223 | global_acc: 91.143% | global_loss: 1.6067112684249878 | cumulative_time: 78.87 seconds\ncomm_round: 224 | global_acc: 90.262% | global_loss: 1.6125974655151367 | cumulative_time: 79.02 seconds\ncomm_round: 225 | global_acc: 90.500% | global_loss: 1.6096742153167725 | cumulative_time: 79.17 seconds\ncomm_round: 226 | global_acc: 88.810% | global_loss: 1.623305320739746 | cumulative_time: 79.32 seconds\ncomm_round: 227 | global_acc: 89.143% | global_loss: 1.6178711652755737 | cumulative_time: 79.47 seconds\ncomm_round: 228 | global_acc: 85.095% | global_loss: 1.6602232456207275 | cumulative_time: 79.62 seconds\ncomm_round: 229 | global_acc: 88.786% | global_loss: 1.6223512887954712 | cumulative_time: 79.77 seconds\ncomm_round: 230 | global_acc: 91.429% | global_loss: 1.6016870737075806 | cumulative_time: 79.92 seconds\ncomm_round: 231 | global_acc: 91.095% | global_loss: 1.6045345067977905 | cumulative_time: 80.07 seconds\ncomm_round: 232 | global_acc: 88.976% | global_loss: 1.6210397481918335 | cumulative_time: 80.22 seconds\ncomm_round: 233 | global_acc: 85.857% | global_loss: 1.6574840545654297 | cumulative_time: 80.37 seconds\ncomm_round: 234 | global_acc: 90.286% | global_loss: 1.612051248550415 | cumulative_time: 80.53 seconds\ncomm_round: 235 | global_acc: 88.929% | global_loss: 1.618335485458374 | cumulative_time: 80.68 seconds\ncomm_round: 236 | global_acc: 90.905% | global_loss: 1.601954460144043 | cumulative_time: 80.83 seconds\ncomm_round: 237 | global_acc: 90.714% | global_loss: 1.6102522611618042 | cumulative_time: 80.98 seconds\ncomm_round: 238 | global_acc: 90.214% | global_loss: 1.612507700920105 | cumulative_time: 81.13 seconds\ncomm_round: 239 | global_acc: 90.643% | global_loss: 1.6034387350082397 | cumulative_time: 81.27 seconds\ncomm_round: 240 | global_acc: 90.286% | global_loss: 1.616079330444336 | cumulative_time: 81.42 seconds\ncomm_round: 241 | global_acc: 89.405% | global_loss: 1.6154358386993408 | cumulative_time: 81.57 seconds\ncomm_round: 242 | global_acc: 89.833% | global_loss: 1.6133309602737427 | cumulative_time: 81.71 seconds\ncomm_round: 243 | global_acc: 88.143% | global_loss: 1.6258360147476196 | cumulative_time: 81.87 seconds\ncomm_round: 244 | global_acc: 86.667% | global_loss: 1.6410202980041504 | cumulative_time: 82.02 seconds\ncomm_round: 245 | global_acc: 88.690% | global_loss: 1.625895380973816 | cumulative_time: 82.17 seconds\ncomm_round: 246 | global_acc: 90.452% | global_loss: 1.6047724485397339 | cumulative_time: 82.32 seconds\ncomm_round: 247 | global_acc: 90.881% | global_loss: 1.601306438446045 | cumulative_time: 82.47 seconds\ncomm_round: 248 | global_acc: 90.167% | global_loss: 1.6085848808288574 | cumulative_time: 82.62 seconds\ncomm_round: 249 | global_acc: 88.381% | global_loss: 1.6265207529067993 | cumulative_time: 82.77 seconds\ncomm_round: 250 | global_acc: 86.381% | global_loss: 1.6416990756988525 | cumulative_time: 82.91 seconds\ncomm_round: 251 | global_acc: 88.452% | global_loss: 1.6250581741333008 | cumulative_time: 83.06 seconds\ncomm_round: 252 | global_acc: 89.476% | global_loss: 1.617725133895874 | cumulative_time: 83.21 seconds\ncomm_round: 253 | global_acc: 90.667% | global_loss: 1.6025246381759644 | cumulative_time: 83.36 seconds\ncomm_round: 254 | global_acc: 90.024% | global_loss: 1.605283260345459 | cumulative_time: 83.50 seconds\ncomm_round: 255 | global_acc: 91.500% | global_loss: 1.5951815843582153 | cumulative_time: 83.65 seconds\ncomm_round: 256 | global_acc: 90.714% | global_loss: 1.6065195798873901 | cumulative_time: 83.80 seconds\ncomm_round: 257 | global_acc: 91.286% | global_loss: 1.5986214876174927 | cumulative_time: 83.95 seconds\ncomm_round: 258 | global_acc: 90.048% | global_loss: 1.6130115985870361 | cumulative_time: 84.10 seconds\ncomm_round: 259 | global_acc: 91.238% | global_loss: 1.5985668897628784 | cumulative_time: 84.25 seconds\ncomm_round: 260 | global_acc: 91.048% | global_loss: 1.5987247228622437 | cumulative_time: 84.40 seconds\ncomm_round: 261 | global_acc: 89.952% | global_loss: 1.606382131576538 | cumulative_time: 84.55 seconds\ncomm_round: 262 | global_acc: 85.476% | global_loss: 1.6386303901672363 | cumulative_time: 84.70 seconds\ncomm_round: 263 | global_acc: 86.286% | global_loss: 1.634577751159668 | cumulative_time: 84.85 seconds\ncomm_round: 264 | global_acc: 86.167% | global_loss: 1.6316394805908203 | cumulative_time: 85.00 seconds\ncomm_round: 265 | global_acc: 85.786% | global_loss: 1.6412380933761597 | cumulative_time: 85.16 seconds\ncomm_round: 266 | global_acc: 90.905% | global_loss: 1.602060079574585 | cumulative_time: 85.31 seconds\ncomm_round: 267 | global_acc: 88.452% | global_loss: 1.6208583116531372 | cumulative_time: 85.47 seconds\ncomm_round: 268 | global_acc: 90.143% | global_loss: 1.615822196006775 | cumulative_time: 85.61 seconds\ncomm_round: 269 | global_acc: 91.333% | global_loss: 1.6024986505508423 | cumulative_time: 85.76 seconds\ncomm_round: 270 | global_acc: 89.071% | global_loss: 1.6167241334915161 | cumulative_time: 85.91 seconds\ncomm_round: 271 | global_acc: 90.929% | global_loss: 1.600528359413147 | cumulative_time: 86.05 seconds\ncomm_round: 272 | global_acc: 87.833% | global_loss: 1.6270437240600586 | cumulative_time: 86.20 seconds\ncomm_round: 273 | global_acc: 90.619% | global_loss: 1.6064051389694214 | cumulative_time: 86.35 seconds\ncomm_round: 274 | global_acc: 91.714% | global_loss: 1.5926564931869507 | cumulative_time: 86.51 seconds\ncomm_round: 275 | global_acc: 90.548% | global_loss: 1.602041244506836 | cumulative_time: 86.66 seconds\ncomm_round: 276 | global_acc: 89.310% | global_loss: 1.6122437715530396 | cumulative_time: 86.82 seconds\ncomm_round: 277 | global_acc: 89.905% | global_loss: 1.607517123222351 | cumulative_time: 86.96 seconds\ncomm_round: 278 | global_acc: 89.286% | global_loss: 1.6124696731567383 | cumulative_time: 87.13 seconds\ncomm_round: 279 | global_acc: 91.095% | global_loss: 1.5969959497451782 | cumulative_time: 87.28 seconds\ncomm_round: 280 | global_acc: 88.190% | global_loss: 1.621704339981079 | cumulative_time: 87.44 seconds\ncomm_round: 281 | global_acc: 90.738% | global_loss: 1.6012599468231201 | cumulative_time: 87.60 seconds\ncomm_round: 282 | global_acc: 91.119% | global_loss: 1.598734974861145 | cumulative_time: 87.74 seconds\ncomm_round: 283 | global_acc: 84.976% | global_loss: 1.6590632200241089 | cumulative_time: 87.89 seconds\ncomm_round: 284 | global_acc: 87.571% | global_loss: 1.6334459781646729 | cumulative_time: 88.04 seconds\ncomm_round: 285 | global_acc: 87.167% | global_loss: 1.6371803283691406 | cumulative_time: 88.21 seconds\ncomm_round: 286 | global_acc: 88.833% | global_loss: 1.613305926322937 | cumulative_time: 88.36 seconds\ncomm_round: 287 | global_acc: 90.548% | global_loss: 1.6011595726013184 | cumulative_time: 88.51 seconds\ncomm_round: 288 | global_acc: 85.405% | global_loss: 1.648457407951355 | cumulative_time: 88.68 seconds\ncomm_round: 289 | global_acc: 91.810% | global_loss: 1.5920571088790894 | cumulative_time: 88.83 seconds\ncomm_round: 290 | global_acc: 91.262% | global_loss: 1.5955665111541748 | cumulative_time: 88.97 seconds\ncomm_round: 291 | global_acc: 91.405% | global_loss: 1.593218207359314 | cumulative_time: 89.13 seconds\ncomm_round: 292 | global_acc: 91.690% | global_loss: 1.5922883749008179 | cumulative_time: 89.28 seconds\ncomm_round: 293 | global_acc: 89.786% | global_loss: 1.6156331300735474 | cumulative_time: 89.43 seconds\ncomm_round: 294 | global_acc: 88.381% | global_loss: 1.6205475330352783 | cumulative_time: 89.59 seconds\ncomm_round: 295 | global_acc: 90.786% | global_loss: 1.598384976387024 | cumulative_time: 89.75 seconds\ncomm_round: 296 | global_acc: 91.310% | global_loss: 1.5951333045959473 | cumulative_time: 89.90 seconds\ncomm_round: 297 | global_acc: 91.619% | global_loss: 1.5909165143966675 | cumulative_time: 90.04 seconds\ncomm_round: 298 | global_acc: 89.262% | global_loss: 1.6112630367279053 | cumulative_time: 90.20 seconds\ncomm_round: 299 | global_acc: 89.857% | global_loss: 1.6141619682312012 | cumulative_time: 90.35 seconds\n",
          "output_type": "stream"
        }
      ]
    },
    {
      "cell_type": "code",
      "source": [
        "# Non-IID\n",
        "import matplotlib.pyplot as plt\n",
        "plt.figure(figsize=(16,4))\n",
        "plt.subplot(121)\n",
        "plt.plot(list(range(0,len(global_loss_list))), global_loss_list)\n",
        "plt.subplot(122)\n",
        "plt.plot(list(range(0,len(global_acc_list))), global_acc_list)\n",
        "print('Non-IID | total comm rounds', len(global_acc_list))"
      ],
      "metadata": {
        "execution": {
          "iopub.status.busy": "2024-08-12T13:30:04.707269Z",
          "iopub.execute_input": "2024-08-12T13:30:04.707634Z",
          "iopub.status.idle": "2024-08-12T13:30:05.049987Z",
          "shell.execute_reply.started": "2024-08-12T13:30:04.707597Z",
          "shell.execute_reply": "2024-08-12T13:30:05.04897Z"
        },
        "trusted": true,
        "id": "YxtwF82MAqku",
        "outputId": "d9b36c5a-03d3-44c3-c0e0-2e0b7a51b7fc"
      },
      "execution_count": null,
      "outputs": [
        {
          "name": "stdout",
          "text": "Non-IID | total comm rounds 300\n",
          "output_type": "stream"
        },
        {
          "output_type": "display_data",
          "data": {
            "text/plain": "<Figure size 1152x288 with 2 Axes>",
            "image/png": "[encoded data removed]"
          },
          "metadata": {
            "needs_background": "light"
          }
        }
      ]
    },
    {
      "cell_type": "code",
      "source": [
        "noniid_df = pd.DataFrame(list(zip(global_acc_list, global_loss_list)), columns =['global_acc_list', 'global_loss_list'])\n",
        "noniid_df.to_csv('CIFAR-10_Non-IID.csv',index=False)"
      ],
      "metadata": {
        "execution": {
          "iopub.status.busy": "2024-08-12T13:30:05.051373Z",
          "iopub.execute_input": "2024-08-12T13:30:05.051676Z",
          "iopub.status.idle": "2024-08-12T13:30:05.070376Z",
          "shell.execute_reply.started": "2024-08-12T13:30:05.051646Z",
          "shell.execute_reply": "2024-08-12T13:30:05.069568Z"
        },
        "trusted": true,
        "id": "NGdhb1rUAqku"
      },
      "execution_count": null,
      "outputs": []
    },
    {
      "cell_type": "code",
      "source": [],
      "metadata": {
        "id": "-wB2ZHh5Aqku"
      },
      "execution_count": null,
      "outputs": []
    }
  ]
}