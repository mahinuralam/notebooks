{
  "metadata": {
    "kernelspec": {
      "language": "python",
      "display_name": "Python 3",
      "name": "python3"
    },
    "language_info": {
      "name": "python",
      "version": "3.7.10",
      "mimetype": "text/x-python",
      "codemirror_mode": {
        "name": "ipython",
        "version": 3
      },
      "pygments_lexer": "ipython3",
      "nbconvert_exporter": "python",
      "file_extension": ".py"
    },
    "kaggle": {
      "accelerator": "gpu",
      "dataSources": [
        {
          "sourceId": 3649,
          "databundleVersionId": 46718,
          "sourceType": "competition"
        },
        {
          "sourceId": 2280,
          "sourceType": "datasetVersion",
          "datasetId": 1272
        },
        {
          "sourceId": 283795,
          "sourceType": "datasetVersion",
          "datasetId": 118250
        }
      ],
      "dockerImageVersionId": 30097,
      "isInternetEnabled": true,
      "language": "python",
      "sourceType": "notebook",
      "isGpuEnabled": true
    },
    "colab": {
      "name": "FL - MNIST / CIFAR-10 / RealAIGI",
      "provenance": [],
      "include_colab_link": true
    }
  },
  "nbformat_minor": 0,
  "nbformat": 4,
  "cells": [
    {
      "cell_type": "markdown",
      "metadata": {
        "id": "view-in-github",
        "colab_type": "text"
      },
      "source": [
        "<a href=\"https://colab.research.google.com/github/mahinuralam/notebooks/blob/main/FL_MNIST_CIFAR_10_RealAIGI.ipynb\" target=\"_parent\"><img src=\"https://colab.research.google.com/assets/colab-badge.svg\" alt=\"Open In Colab\"/></a>"
      ]
    },
    {
      "source": [
        "\n",
        "# IMPORTANT: RUN THIS CELL IN ORDER TO IMPORT YOUR KAGGLE DATA SOURCES\n",
        "# TO THE CORRECT LOCATION (/kaggle/input) IN YOUR NOTEBOOK,\n",
        "# THEN FEEL FREE TO DELETE THIS CELL.\n",
        "# NOTE: THIS NOTEBOOK ENVIRONMENT DIFFERS FROM KAGGLE'S PYTHON\n",
        "# ENVIRONMENT SO THERE MAY BE MISSING LIBRARIES USED BY YOUR\n",
        "# NOTEBOOK.\n",
        "\n",
        "import os\n",
        "import sys\n",
        "from tempfile import NamedTemporaryFile\n",
        "from urllib.request import urlopen\n",
        "from urllib.parse import unquote, urlparse\n",
        "from urllib.error import HTTPError\n",
        "from zipfile import ZipFile\n",
        "import tarfile\n",
        "import shutil\n",
        "\n",
        "CHUNK_SIZE = 40960\n",
        "DATA_SOURCE_MAPPING = 'cifar-10:https%3A%2F%2Fstorage.googleapis.com%2Fkaggle-competitions-data%2Fkaggle-v2%2F3649%2F46718%2Fbundle%2Farchive.zip%3FX-Goog-Algorithm%3DGOOG4-RSA-SHA256%26X-Goog-Credential%3Dgcp-kaggle-com%2540kaggle-161607.iam.gserviceaccount.com%252F20240816%252Fauto%252Fstorage%252Fgoog4_request%26X-Goog-Date%3D20240816T070648Z%26X-Goog-Expires%3D259200%26X-Goog-SignedHeaders%3Dhost%26X-Goog-Signature%3D5fa87b5f48559859c95f789c67a58bde4f2794cdca99f655cc1ed21266b437412c277ffe183c60f47952a6ff0ed95db2f049e269447c81631eb996021f540cac4097d216b1cd2fd2a000ed0f765e1d201363e95c33e4cf212d1f7ee4e1ff206998592a572a3e6bb110db8f2ac0ded855496eac162a57fe18ea25314b9b4db64cacc0eaa7e4f94506b8f7c04a3b6932404892b0c122a19f9458a1ef9ce2ce5a1881e4892a092e30edd5d32b92a502b44f4e0575343e54fbabf85fdd327553960caadc1c376d7f1bdefe9f13c583ae7181679f8fe2dea08880a73971d2b47e55c09c780e0ae7da481c23fe48c751c0fa89193e33f4e7e38ce5e417ac031d78a2d2,mnistasjpg:https%3A%2F%2Fstorage.googleapis.com%2Fkaggle-data-sets%2F1272%2F2280%2Fbundle%2Farchive.zip%3FX-Goog-Algorithm%3DGOOG4-RSA-SHA256%26X-Goog-Credential%3Dgcp-kaggle-com%2540kaggle-161607.iam.gserviceaccount.com%252F20240816%252Fauto%252Fstorage%252Fgoog4_request%26X-Goog-Date%3D20240816T070648Z%26X-Goog-Expires%3D259200%26X-Goog-SignedHeaders%3Dhost%26X-Goog-Signature%3D4ecaf175f58d005d870c0e4f735831049e4d7eeed3331eb3bd55388945ed5106464e38d443124523c9fc20bff4454c5b3f9bfa74389260c27625bd88d0142aea15b99aa341de0784f78e685327f9e74f51e1299e0f61a814712af869751d9d5379d6aa8e74449f12b2168471093c519181e1c07dc097218bab382d2be8cc88f35e1e297018d8924d4d2fcdf3d088ff289ac1ffd320206dcee197a33cef961dab2101b73a1819026f276d06364ee916cd1d20fcc780679546dad88cadf483735f12e9a3f4ce9f63adf1a64c5a6e459faa2197f148eeef6a23d07e59b4c5cf4b7cd461f4f0f3762c9ceb1b4e9ce05bfcccc9d18429616171964279519895ae9307,cifar10-pngs-in-folders:https%3A%2F%2Fstorage.googleapis.com%2Fkaggle-data-sets%2F118250%2F283795%2Fbundle%2Farchive.zip%3FX-Goog-Algorithm%3DGOOG4-RSA-SHA256%26X-Goog-Credential%3Dgcp-kaggle-com%2540kaggle-161607.iam.gserviceaccount.com%252F20240816%252Fauto%252Fstorage%252Fgoog4_request%26X-Goog-Date%3D20240816T070648Z%26X-Goog-Expires%3D259200%26X-Goog-SignedHeaders%3Dhost%26X-Goog-Signature%3D6aa55deba5c22afea1e4f52f7e65cedd39c82aa8b572d5786387f54cafdf073de0213830d3e91e54c699513c82cd7fe7f05275cd3907b545d9b1ae550a5852892f9cd0a8876ae259aaf2c30b3d010bf783e048d9c75d283ed9b1fb898dbfddf4bf649beb1c320e103215852b9270c4f6c434977623439405a492071f3b1f51e8f8a4e554681d8c1bbb031c117a939c21269b5f855f422d2f6bf7f856bb480cb0ee2971b72824d2fe7fd965df4f053f4dda102cc05ae628d87d50ad9def7c73fa32f83d1ed82e7006e23630e3f65b65895266f50a5e961d8f8b03bbec6bc7a8132e7d2c886cbf5afc28e0ad095a2d053d721002f63b6f798f74533e7ff1ed8239'\n",
        "\n",
        "KAGGLE_INPUT_PATH='/kaggle/input'\n",
        "KAGGLE_WORKING_PATH='/kaggle/working'\n",
        "KAGGLE_SYMLINK='kaggle'\n",
        "\n",
        "!umount /kaggle/input/ 2> /dev/null\n",
        "shutil.rmtree('/kaggle/input', ignore_errors=True)\n",
        "os.makedirs(KAGGLE_INPUT_PATH, 0o777, exist_ok=True)\n",
        "os.makedirs(KAGGLE_WORKING_PATH, 0o777, exist_ok=True)\n",
        "\n",
        "try:\n",
        "  os.symlink(KAGGLE_INPUT_PATH, os.path.join(\"..\", 'input'), target_is_directory=True)\n",
        "except FileExistsError:\n",
        "  pass\n",
        "try:\n",
        "  os.symlink(KAGGLE_WORKING_PATH, os.path.join(\"..\", 'working'), target_is_directory=True)\n",
        "except FileExistsError:\n",
        "  pass\n",
        "\n",
        "for data_source_mapping in DATA_SOURCE_MAPPING.split(','):\n",
        "    directory, download_url_encoded = data_source_mapping.split(':')\n",
        "    download_url = unquote(download_url_encoded)\n",
        "    filename = urlparse(download_url).path\n",
        "    destination_path = os.path.join(KAGGLE_INPUT_PATH, directory)\n",
        "    try:\n",
        "        with urlopen(download_url) as fileres, NamedTemporaryFile() as tfile:\n",
        "            total_length = fileres.headers['content-length']\n",
        "            print(f'Downloading {directory}, {total_length} bytes compressed')\n",
        "            dl = 0\n",
        "            data = fileres.read(CHUNK_SIZE)\n",
        "            while len(data) > 0:\n",
        "                dl += len(data)\n",
        "                tfile.write(data)\n",
        "                done = int(50 * dl / int(total_length))\n",
        "                sys.stdout.write(f\"\\r[{'=' * done}{' ' * (50-done)}] {dl} bytes downloaded\")\n",
        "                sys.stdout.flush()\n",
        "                data = fileres.read(CHUNK_SIZE)\n",
        "            if filename.endswith('.zip'):\n",
        "              with ZipFile(tfile) as zfile:\n",
        "                zfile.extractall(destination_path)\n",
        "            else:\n",
        "              with tarfile.open(tfile.name) as tarfile:\n",
        "                tarfile.extractall(destination_path)\n",
        "            print(f'\\nDownloaded and uncompressed: {directory}')\n",
        "    except HTTPError as e:\n",
        "        print(f'Failed to load (likely expired) {download_url} to path {destination_path}')\n",
        "        continue\n",
        "    except OSError as e:\n",
        "        print(f'Failed to load {download_url} to path {destination_path}')\n",
        "        continue\n",
        "\n",
        "print('Data source import complete.')\n"
      ],
      "metadata": {
        "id": "zddn1mlWAqkh"
      },
      "cell_type": "code",
      "outputs": [],
      "execution_count": null
    },
    {
      "cell_type": "code",
      "source": [
        "import numpy as np\n",
        "import pandas as pd\n",
        "import random\n",
        "import cv2\n",
        "import os\n",
        "from tqdm import tqdm\n",
        "\n",
        "from sklearn.model_selection import train_test_split\n",
        "from sklearn.preprocessing import LabelBinarizer\n",
        "from sklearn.model_selection import train_test_split\n",
        "from sklearn.utils import shuffle\n",
        "from sklearn.metrics import accuracy_score\n",
        "\n",
        "import tensorflow as tf\n",
        "from tensorflow import expand_dims\n",
        "from tensorflow.keras.models import Sequential\n",
        "from tensorflow.keras.layers import Conv2D, Input, Lambda\n",
        "from tensorflow.keras.layers import MaxPooling2D\n",
        "from tensorflow.keras.layers import Activation\n",
        "from tensorflow.keras.layers import Flatten\n",
        "from tensorflow.keras.layers import Dense\n",
        "from tensorflow.keras.optimizers import SGD\n",
        "from tensorflow.keras import backend as K"
      ],
      "metadata": {
        "_uuid": "8f2839f25d086af736a60e9eeb907d3b93b6e0e5",
        "_cell_guid": "b1076dfc-b9ad-4769-8c92-a6c4dae69d19",
        "execution": {
          "iopub.status.busy": "2024-08-12T12:31:42.553757Z",
          "iopub.execute_input": "2024-08-12T12:31:42.554551Z",
          "iopub.status.idle": "2024-08-12T12:31:44.994003Z",
          "shell.execute_reply.started": "2024-08-12T12:31:42.554149Z",
          "shell.execute_reply": "2024-08-12T12:31:44.992959Z"
        },
        "trusted": true,
        "id": "-_UrpOMtAqkl"
      },
      "execution_count": null,
      "outputs": []
    },
    {
      "cell_type": "code",
      "source": [
        "!pip install imutils\n",
        "from imutils import paths"
      ],
      "metadata": {
        "execution": {
          "iopub.status.busy": "2024-08-12T12:31:44.999783Z",
          "iopub.execute_input": "2024-08-12T12:31:45.000094Z",
          "iopub.status.idle": "2024-08-12T12:31:53.202897Z",
          "shell.execute_reply.started": "2024-08-12T12:31:45.000059Z",
          "shell.execute_reply": "2024-08-12T12:31:53.201711Z"
        },
        "trusted": true,
        "id": "B9E5sNHGAqkl",
        "outputId": "4faf63f9-a928-430b-803e-cc230f4302fe"
      },
      "execution_count": null,
      "outputs": [
        {
          "name": "stdout",
          "text": "Requirement already satisfied: imutils in /opt/conda/lib/python3.7/site-packages (0.5.4)\n",
          "output_type": "stream"
        }
      ]
    },
    {
      "cell_type": "markdown",
      "source": [
        "### Todo\n",
        "\n",
        "create subset of clients\n",
        "\n",
        "- increase comm rounds 300\n",
        "- increase hidden units 400\n",
        "- increase no of layers\n",
        "- no of clients 20"
      ],
      "metadata": {
        "id": "UxgCSJRjAqkm"
      }
    },
    {
      "cell_type": "code",
      "source": [
        "debug = 0"
      ],
      "metadata": {
        "execution": {
          "iopub.status.busy": "2024-08-12T12:31:53.205328Z",
          "iopub.execute_input": "2024-08-12T12:31:53.205741Z",
          "iopub.status.idle": "2024-08-12T12:31:53.210382Z",
          "shell.execute_reply.started": "2024-08-12T12:31:53.205701Z",
          "shell.execute_reply": "2024-08-12T12:31:53.209373Z"
        },
        "trusted": true,
        "id": "oArpoKVFAqkn"
      },
      "execution_count": null,
      "outputs": []
    },
    {
      "cell_type": "code",
      "source": [
        "def load(paths, verbose=-1):\n",
        "    '''expects images for each class in seperate dir,\n",
        "    e.g all digits in 0 class in the directory named 0 '''\n",
        "    data = list()\n",
        "    labels = list()\n",
        "    # loop over the input images\n",
        "    for (i, imgpath) in enumerate(paths):\n",
        "        # load the image and extract the class labels\n",
        "        im_gray = cv2.imread(imgpath , cv2.IMREAD_GRAYSCALE)\n",
        "        image = np.array(im_gray).flatten() # cv2.imread(imgpath)\n",
        "        # print(image.shape)\n",
        "        label = imgpath.split(os.path.sep)[-2]\n",
        "        # scale the image to [0, 1] and add to list\n",
        "        data.append(image/255)\n",
        "        labels.append(label)\n",
        "        # show an update every `verbose` images\n",
        "        if verbose > 0 and i > 0 and (i + 1) % verbose == 0:\n",
        "            print(\"[INFO] processed {}/{}\".format(i + 1, len(paths)))\n",
        "    # return a tuple of the data and labels\n",
        "\n",
        "    return data, labels\n",
        "\n",
        "def create_clients(image_list, label_list, num_clients=10, initial='clients'):\n",
        "    ''' return: a dictionary with keys clients' names and value as\n",
        "                data shards - tuple of images and label lists.\n",
        "        args:\n",
        "            image_list: a list of numpy arrays of training images\n",
        "            label_list:a list of binarized labels for each image\n",
        "            num_client: number of fedrated members (clients)\n",
        "            initials: the clients'name prefix, e.g, clients_1\n",
        "\n",
        "    '''\n",
        "\n",
        "    #create a list of client names\n",
        "    client_names = ['{}_{}'.format(initial, i+1) for i in range(num_clients)]\n",
        "\n",
        "    #randomize the data\n",
        "    data = list(zip(image_list, label_list))\n",
        "    random.shuffle(data)  # <- IID\n",
        "\n",
        "    # sort data for non-iid\n",
        "#     max_y = np.argmax(label_list, axis=-1)\n",
        "#     sorted_zip = sorted(zip(max_y, label_list, image_list), key=lambda x: x[0])\n",
        "#     data = [(x,y) for _,y,x in sorted_zip]\n",
        "\n",
        "    #shard data and place at each client\n",
        "    size = len(data)//num_clients\n",
        "    shards = [data[i:i + size] for i in range(0, size*num_clients, size)]\n",
        "\n",
        "    #number of clients must equal number of shards\n",
        "    assert(len(shards) == len(client_names))\n",
        "\n",
        "    return {client_names[i] : shards[i] for i in range(len(client_names))}\n",
        "\n",
        "\n",
        "def batch_data(data_shard, bs=32):\n",
        "    '''Takes in a clients data shard and create a tfds object off it\n",
        "    args:\n",
        "        shard: a data, label constituting a client's data shard\n",
        "        bs:batch size\n",
        "    return:\n",
        "        tfds object'''\n",
        "    #seperate shard into data and labels lists\n",
        "    data, label = zip(*data_shard)\n",
        "    dataset = tf.data.Dataset.from_tensor_slices((list(data), list(label)))\n",
        "    return dataset.shuffle(len(label)).batch(bs)\n",
        "\n",
        "\n",
        "def weight_scalling_factor(clients_trn_data, client_name):\n",
        "    client_names = list(clients_trn_data.keys())\n",
        "    #get the bs\n",
        "    bs = list(clients_trn_data[client_name])[0][0].shape[0]\n",
        "    #first calculate the total training data points across clinets\n",
        "    global_count = sum([tf.data.experimental.cardinality(clients_trn_data[client_name]).numpy() for client_name in client_names])*bs\n",
        "    # get the total number of data points held by a client\n",
        "    local_count = tf.data.experimental.cardinality(clients_trn_data[client_name]).numpy()*bs\n",
        "\n",
        "\n",
        "    if debug:\n",
        "        print('global_count', global_count, 'local_count', local_count, 'bs', bs)\n",
        "\n",
        "    return local_count/global_count\n",
        "\n",
        "\n",
        "def scale_model_weights(weight, scalar):\n",
        "    '''function for scaling a models weights'''\n",
        "    weight_final = []\n",
        "    steps = len(weight)\n",
        "    for i in range(steps):\n",
        "        weight_final.append(scalar * weight[i])\n",
        "    return weight_final\n",
        "\n",
        "\n",
        "\n",
        "def sum_scaled_weights(scaled_weight_list):\n",
        "    '''Return the sum of the listed scaled weights. The is equivalent to scaled avg of the weights'''\n",
        "    avg_grad = list()\n",
        "    #get the average grad accross all client gradients\n",
        "    for grad_list_tuple in zip(*scaled_weight_list):\n",
        "        layer_mean = tf.math.reduce_sum(grad_list_tuple, axis=0)\n",
        "        avg_grad.append(layer_mean)\n",
        "\n",
        "    return avg_grad\n",
        "\n",
        "\n",
        "import time\n",
        "from sklearn.metrics import accuracy_score\n",
        "import tensorflow as tf\n",
        "\n",
        "import time\n",
        "\n",
        "# Initialize cumulative time tracker\n",
        "cumulative_time = 0\n",
        "\n",
        "def test_model(X_test, Y_test, model, comm_round):\n",
        "    global cumulative_time  # Ensure we're modifying the global cumulative time variable\n",
        "\n",
        "    # Start time measurement\n",
        "    start_time = time.time()\n",
        "\n",
        "    # Calculate loss and accuracy\n",
        "    cce = tf.keras.losses.CategoricalCrossentropy(from_logits=True)\n",
        "    logits = model.predict(X_test)\n",
        "    loss = cce(Y_test, logits)\n",
        "    acc = accuracy_score(tf.argmax(logits, axis=1), tf.argmax(Y_test, axis=1))\n",
        "\n",
        "    # End time measurement\n",
        "    end_time = time.time()\n",
        "\n",
        "    # Calculate elapsed time for this round\n",
        "    elapsed_time = end_time - start_time\n",
        "\n",
        "    # Update cumulative time\n",
        "    cumulative_time += elapsed_time\n",
        "\n",
        "    # Print results with cumulative time\n",
        "    print('comm_round: {} | global_acc: {:.3%} | global_loss: {} | cumulative_time: {:.2f} seconds'.format(\n",
        "        comm_round, acc, loss, cumulative_time))\n",
        "\n",
        "    return acc, loss\n",
        "\n",
        "\n"
      ],
      "metadata": {
        "execution": {
          "iopub.status.busy": "2024-08-12T12:31:53.212141Z",
          "iopub.execute_input": "2024-08-12T12:31:53.212602Z",
          "iopub.status.idle": "2024-08-12T12:31:53.241706Z",
          "shell.execute_reply.started": "2024-08-12T12:31:53.212556Z",
          "shell.execute_reply": "2024-08-12T12:31:53.240519Z"
        },
        "trusted": true,
        "id": "daCmmuaeAqko"
      },
      "execution_count": null,
      "outputs": []
    },
    {
      "cell_type": "code",
      "source": [
        "class SimpleMLP:\n",
        "    @staticmethod\n",
        "    def build(shape, classes):\n",
        "        model = Sequential()\n",
        "        model.add(Dense(200, input_shape=(shape,)))\n",
        "        model.add(Activation(\"relu\"))\n",
        "        model.add(Dense(200))\n",
        "        model.add(Activation(\"relu\"))\n",
        "        model.add(Dense(classes))\n",
        "        model.add(Activation(\"softmax\"))\n",
        "        return model\n",
        "\n",
        "#     def build(shape, classes):\n",
        "#         model = Sequential()\n",
        "#         model.add(Input(shape=(shape[0], shape[1], shape[2])))\n",
        "#         #model.add(Lambda(lambda x: expand_dims(x, axis=-1)))\n",
        "#         model.add(Conv2D(filters=64, kernel_size=3, padding=\"same\"))\n",
        "#         model.add(Activation(\"relu\"))\n",
        "#         model.add(Conv2D(filters=64, kernel_size=3, padding=\"same\"))\n",
        "#         model.add(Activation(\"relu\"))\n",
        "#         model.add(MaxPooling2D())\n",
        "#         model.add(Conv2D(filters=128, kernel_size=3, padding=\"same\"))\n",
        "#         model.add(Activation(\"relu\"))\n",
        "#         model.add(Conv2D(filters=128, kernel_size=3, padding=\"same\"))\n",
        "#         model.add(Activation(\"relu\"))\n",
        "#         model.add(MaxPooling2D())\n",
        "#         model.add(Activation(\"relu\"))\n",
        "#         model.add(Conv2D(filters=256, kernel_size=3, padding=\"same\"))\n",
        "#         model.add(Activation(\"relu\"))\n",
        "#         model.add(Conv2D(filters=256, kernel_size=3, padding=\"same\"))\n",
        "#         model.add(Activation(\"relu\"))\n",
        "#         model.add(MaxPooling2D())\n",
        "#         model.add(Activation(\"relu\"))\n",
        "#         model.add(Conv2D(filters=512, kernel_size=3, padding=\"same\"))\n",
        "#         model.add(Activation(\"relu\"))\n",
        "#         model.add(Conv2D(filters=512, kernel_size=3, padding=\"same\"))\n",
        "#         model.add(Activation(\"relu\"))\n",
        "#         model.add(MaxPooling2D())\n",
        "#         model.add(Flatten())\n",
        "#         model.add(Dense(32))\n",
        "#         model.add(Dense(classes))\n",
        "#         model.add(Activation(\"softmax\"))\n",
        "#         return model\n",
        "\n",
        "\n",
        "\n",
        "import tensorflow as tf\n",
        "from tensorflow.keras import layers, models, optimizers\n",
        "\n",
        "def attention_module(inputs):\n",
        "    # Squeeze and Excitation block\n",
        "    x = layers.GlobalAveragePooling2D()(inputs)\n",
        "    x = layers.Dense(units=inputs.shape[-1] // 16, activation='relu')(x)\n",
        "    x = layers.Dense(units=inputs.shape[-1], activation='sigmoid')(x)\n",
        "    x = layers.Multiply()([inputs, x])\n",
        "    return x\n",
        "\n",
        "\n",
        "def spatial_attention(input_feature):\n",
        "    kernel_size = 7\n",
        "    avg_pool = tf.reduce_mean(input_feature, axis=[3], keepdims=True)\n",
        "    max_pool = tf.reduce_max(input_feature, axis=[3], keepdims=True)\n",
        "    concat = tf.concat([avg_pool, max_pool], axis=3)\n",
        "    attention_map = layers.Conv2D(filters=1, kernel_size=kernel_size, strides=1, padding='same', activation='sigmoid')(concat)\n",
        "    return input_feature * attention_map\n",
        "\n",
        "\n",
        "def channel_attention(input_feature, ratio=8):\n",
        "    channel = input_feature.shape[-1]\n",
        "    avg_pool = layers.GlobalAveragePooling2D()(input_feature)\n",
        "    max_pool = layers.GlobalMaxPooling2D()(input_feature)\n",
        "    dense1 = layers.Dense(channel // ratio, activation='relu')\n",
        "    dense2 = layers.Dense(channel, activation='sigmoid')\n",
        "\n",
        "    avg_out = dense2(dense1(avg_pool))\n",
        "    max_out = dense2(dense1(max_pool))\n",
        "\n",
        "    attention = avg_out + max_out\n",
        "    return input_feature * layers.Reshape([1, 1, channel])(attention)\n",
        "\n",
        "\n",
        "def MACNN(input_shape, num_classes):\n",
        "    inputs = layers.Input(shape=input_shape)\n",
        "\n",
        "    # First Convolutional Block\n",
        "    x = layers.Conv2D(32, (3, 3), activation='relu')(inputs)\n",
        "    x = layers.BatchNormalization()(x)\n",
        "    x = layers.MaxPooling2D((2, 2))(x)\n",
        "    x = layers.Dropout(0.3)(x)\n",
        "\n",
        "    # Add Attention Module\n",
        "    x = attention_module(x)\n",
        "    x = spatial_attention(x)\n",
        "\n",
        "    # Second Convolutional Block\n",
        "    x = layers.Conv2D(64, (3, 3), activation='relu')(x)\n",
        "    x = layers.BatchNormalization()(x)\n",
        "    x = layers.MaxPooling2D((2, 2))(x)\n",
        "    x = layers.Dropout(0.4)(x)\n",
        "\n",
        "    # Add Attention Module\n",
        "    x = attention_module(x)\n",
        "    x = channel_attention(x)\n",
        "\n",
        "    # Third Convolutional Block\n",
        "    x = layers.Conv2D(128, (3, 3), activation='relu')(x)\n",
        "    x = layers.BatchNormalization()(x)\n",
        "    x = layers.MaxPooling2D((2, 2))(x)\n",
        "    x = layers.Dropout(0.4)(x)\n",
        "\n",
        "    # Dense Layers\n",
        "    x = layers.Dense(512, activation='relu')(x)\n",
        "    x = layers.BatchNormalization()(x)\n",
        "    x = layers.Dropout(0.5)(x)\n",
        "\n",
        "    outputs = layers.Dense(num_classes, activation='softmax')(x)\n",
        "\n",
        "    model = models.Model(inputs, outputs)\n",
        "    return model\n"
      ],
      "metadata": {
        "execution": {
          "iopub.status.busy": "2024-08-12T12:31:53.243277Z",
          "iopub.execute_input": "2024-08-12T12:31:53.243735Z",
          "iopub.status.idle": "2024-08-12T12:31:53.257853Z",
          "shell.execute_reply.started": "2024-08-12T12:31:53.243692Z",
          "shell.execute_reply": "2024-08-12T12:31:53.256868Z"
        },
        "trusted": true,
        "id": "UJEpuQZdAqko"
      },
      "execution_count": null,
      "outputs": []
    },
    {
      "cell_type": "code",
      "source": [
        "#declear path to your mnist data folder\n",
        "img_path = '../input/mnistasjpg/trainingSet/trainingSet' #'../input/cifar10-pngs-in-folders/cifar10/test'  # <-- test dataset #'../input/mnistasjpg/trainingSample/trainingSample' # <-- smaller dataset\n",
        "\n",
        "#get the path list using the path object\n",
        "image_paths = list(paths.list_images(img_path))\n",
        "\n",
        "#apply our function\n",
        "image_list, label_list = load(image_paths, verbose=10000)\n",
        "\n",
        "#binarize the labels\n",
        "lb = LabelBinarizer()\n",
        "label_list = lb.fit_transform(label_list)"
      ],
      "metadata": {
        "_kg_hide-output": true,
        "execution": {
          "iopub.status.busy": "2024-08-12T12:31:53.259289Z",
          "iopub.execute_input": "2024-08-12T12:31:53.259703Z",
          "iopub.status.idle": "2024-08-12T12:33:55.908425Z",
          "shell.execute_reply.started": "2024-08-12T12:31:53.259669Z",
          "shell.execute_reply": "2024-08-12T12:33:55.9074Z"
        },
        "trusted": true,
        "id": "VPwNh31RAqkp"
      },
      "execution_count": null,
      "outputs": []
    },
    {
      "cell_type": "code",
      "source": [
        "#declear path to your RealAIGI data folder\n",
        "img_path = '../input/RealAIGI'\n",
        "\n",
        "#get the path list using the path object\n",
        "image_paths = list(paths.list_images(img_path))\n",
        "\n",
        "#apply our function\n",
        "image_list, label_list = load(image_paths, verbose=10000)\n",
        "\n",
        "#binarize the labels\n",
        "lb = LabelBinarizer()\n",
        "label_list = lb.fit_transform(label_list)"
      ],
      "metadata": {
        "id": "pBmR5ZtiAqkq"
      },
      "execution_count": null,
      "outputs": []
    },
    {
      "cell_type": "code",
      "source": [
        "#split data into training and test set\n",
        "X_train, X_test, y_train, y_test = train_test_split(image_list,\n",
        "                                                    label_list,\n",
        "                                                    test_size=0.1,\n",
        "                                                    random_state=42)"
      ],
      "metadata": {
        "execution": {
          "iopub.status.busy": "2024-08-12T12:33:55.909885Z",
          "iopub.execute_input": "2024-08-12T12:33:55.910325Z",
          "iopub.status.idle": "2024-08-12T12:33:55.939313Z",
          "shell.execute_reply.started": "2024-08-12T12:33:55.910279Z",
          "shell.execute_reply": "2024-08-12T12:33:55.938339Z"
        },
        "trusted": true,
        "id": "2FFSrFZ0Aqkq"
      },
      "execution_count": null,
      "outputs": []
    },
    {
      "cell_type": "markdown",
      "source": [
        "### IID"
      ],
      "metadata": {
        "id": "W8wqvYGPAqkr"
      }
    },
    {
      "cell_type": "code",
      "source": [
        "len(X_train), len(X_test), len(y_train), len(y_test)"
      ],
      "metadata": {
        "execution": {
          "iopub.status.busy": "2024-08-12T12:33:55.942184Z",
          "iopub.execute_input": "2024-08-12T12:33:55.942542Z",
          "iopub.status.idle": "2024-08-12T12:33:55.95266Z",
          "shell.execute_reply.started": "2024-08-12T12:33:55.94251Z",
          "shell.execute_reply": "2024-08-12T12:33:55.951694Z"
        },
        "trusted": true,
        "id": "A4DHqPGHAqkr",
        "outputId": "c51c280c-3914-4222-fe17-e9b8d095d969"
      },
      "execution_count": null,
      "outputs": [
        {
          "execution_count": 8,
          "output_type": "execute_result",
          "data": {
            "text/plain": "(37800, 4200, 37800, 4200)"
          },
          "metadata": {}
        }
      ]
    },
    {
      "cell_type": "code",
      "source": [
        "#create clients\n",
        "clients = create_clients(X_train, y_train, num_clients=100, initial='client')"
      ],
      "metadata": {
        "execution": {
          "iopub.status.busy": "2024-08-12T12:33:55.954901Z",
          "iopub.execute_input": "2024-08-12T12:33:55.955225Z",
          "iopub.status.idle": "2024-08-12T12:33:56.041242Z",
          "shell.execute_reply.started": "2024-08-12T12:33:55.955194Z",
          "shell.execute_reply": "2024-08-12T12:33:56.040275Z"
        },
        "trusted": true,
        "id": "msUaEm3ZAqkr"
      },
      "execution_count": null,
      "outputs": []
    },
    {
      "cell_type": "code",
      "source": [
        "# client_names = ['{}_{}'.format('client', i+1) for i in range(100)]\n",
        "# s = clients['client_1'][0][1]*0\n",
        "# for c in client_names:\n",
        "#     sum = clients[c][0][1]\n",
        "#     for i in range(1,378):\n",
        "#         sum = sum + clients[c][i][1]\n",
        "\n",
        "#     s = s + sum/378\n",
        "# s"
      ],
      "metadata": {
        "execution": {
          "iopub.status.busy": "2024-08-12T12:33:56.042845Z",
          "iopub.execute_input": "2024-08-12T12:33:56.043312Z",
          "iopub.status.idle": "2024-08-12T12:33:56.047426Z",
          "shell.execute_reply.started": "2024-08-12T12:33:56.043266Z",
          "shell.execute_reply": "2024-08-12T12:33:56.046364Z"
        },
        "trusted": true,
        "id": "Yrdfk_AqAqkr"
      },
      "execution_count": null,
      "outputs": []
    },
    {
      "cell_type": "code",
      "source": [
        "#process and batch the training data for each client\n",
        "clients_batched = dict()\n",
        "for (client_name, data) in clients.items():\n",
        "    clients_batched[client_name] = batch_data(data)\n",
        "\n",
        "#process and batch the test set\n",
        "test_batched = tf.data.Dataset.from_tensor_slices((X_test, y_test)).batch(len(y_test))"
      ],
      "metadata": {
        "execution": {
          "iopub.status.busy": "2024-08-12T12:33:56.048943Z",
          "iopub.execute_input": "2024-08-12T12:33:56.049388Z",
          "iopub.status.idle": "2024-08-12T12:34:07.737437Z",
          "shell.execute_reply.started": "2024-08-12T12:33:56.049347Z",
          "shell.execute_reply": "2024-08-12T12:34:07.736424Z"
        },
        "trusted": true,
        "id": "jPxX9u3xAqkr"
      },
      "execution_count": null,
      "outputs": []
    },
    {
      "cell_type": "code",
      "source": [
        "lr = 0.01\n",
        "# lr = 0.0001\n",
        "loss = 'binary_crossentropy'\n",
        "comms_round = 300\n",
        "# loss='categorical_crossentropy'\n",
        "metrics = ['accuracy']\n",
        "optimizer = SGD(lr=lr,\n",
        "                decay=lr / comms_round,\n",
        "                momentum=0.9\n",
        "               )"
      ],
      "metadata": {
        "execution": {
          "iopub.status.busy": "2024-08-12T12:34:07.738907Z",
          "iopub.execute_input": "2024-08-12T12:34:07.739291Z",
          "iopub.status.idle": "2024-08-12T12:34:07.745147Z",
          "shell.execute_reply.started": "2024-08-12T12:34:07.739254Z",
          "shell.execute_reply": "2024-08-12T12:34:07.744042Z"
        },
        "trusted": true,
        "id": "bpDKEymOAqks"
      },
      "execution_count": null,
      "outputs": []
    },
    {
      "cell_type": "code",
      "source": [
        "#initialize global model\n",
        "\n",
        "build_shape = 784 #(28, 28, 3)  # 1024 <- CIFAR-10    # 784 # for MNIST # 1024 <- RealAIGI\n",
        "\n",
        "#smlp_global = SimpleMLP()\n",
        "smlp_global = MACNN()\n",
        "global_model = smlp_global.build(build_shape, 10)\n",
        "global_acc_list = []\n",
        "global_loss_list = []"
      ],
      "metadata": {
        "execution": {
          "iopub.status.busy": "2024-08-12T12:34:07.746868Z",
          "iopub.execute_input": "2024-08-12T12:34:07.747312Z",
          "iopub.status.idle": "2024-08-12T12:34:08.140611Z",
          "shell.execute_reply.started": "2024-08-12T12:34:07.747267Z",
          "shell.execute_reply": "2024-08-12T12:34:08.139451Z"
        },
        "trusted": true,
        "id": "LtTqvsTKAqks"
      },
      "execution_count": null,
      "outputs": []
    },
    {
      "cell_type": "code",
      "source": [
        "#commence global training loop\n",
        "for comm_round in range(comms_round):\n",
        "\n",
        "    # get the global model's weights - will serve as the initial weights for all local models\n",
        "    global_weights = global_model.get_weights()\n",
        "\n",
        "    #initial list to collect local model weights after scalling\n",
        "    scaled_local_weight_list = list()\n",
        "\n",
        "    #randomize client data - using keys\n",
        "    all_client_names = list(clients_batched.keys())\n",
        "\n",
        "    client_names = random.sample(all_client_names, k=10)\n",
        "    # print(client_names, len(client_names))\n",
        "    random.shuffle(client_names)\n",
        "\n",
        "#     if debug:\n",
        "#         # print('all_client_names', all_client_names)\n",
        "#         print('client_names', client_names, len(client_names))\n",
        "\n",
        "\n",
        "    #loop through each client and create new local model\n",
        "    for client in client_names:\n",
        "        #smlp_local = SimpleMLP()\n",
        "        smlp_global = MACNN()\n",
        "        local_model = smlp_local.build(build_shape, 10)\n",
        "        local_model.compile(loss=loss,\n",
        "                      optimizer=optimizer,\n",
        "                      metrics=metrics)\n",
        "\n",
        "        #set local model weight to the weight of the global model\n",
        "        local_model.set_weights(global_weights)\n",
        "\n",
        "        #fit local model with client's data\n",
        "        local_model.fit(clients_batched[client], epochs=1, verbose=0)\n",
        "\n",
        "        #scale the model weights and add to list\n",
        "        scaling_factor = 0.1 # weight_scalling_factor(clients_batched, client)\n",
        "        # print('scaling_factor', scaling_factor)\n",
        "        scaled_weights = scale_model_weights(local_model.get_weights(), scaling_factor)\n",
        "        scaled_local_weight_list.append(scaled_weights)\n",
        "\n",
        "        #clear session to free memory after each communication round\n",
        "        K.clear_session()\n",
        "\n",
        "    #to get the average over all the local model, we simply take the sum of the scaled weights\n",
        "    average_weights = sum_scaled_weights(scaled_local_weight_list)\n",
        "\n",
        "    #update global model\n",
        "    global_model.set_weights(average_weights)\n",
        "\n",
        "    #test global model and print out metrics after each communications round\n",
        "    for(X_test, Y_test) in test_batched:\n",
        "        global_acc, global_loss = test_model(X_test, Y_test, global_model, comm_round)\n",
        "        global_acc_list.append(global_acc)\n",
        "        global_loss_list.append(global_loss)"
      ],
      "metadata": {
        "execution": {
          "iopub.status.busy": "2024-08-12T12:34:08.141996Z",
          "iopub.execute_input": "2024-08-12T12:34:08.142332Z",
          "iopub.status.idle": "2024-08-12T13:01:58.994772Z",
          "shell.execute_reply.started": "2024-08-12T12:34:08.142302Z",
          "shell.execute_reply": "2024-08-12T13:01:58.993588Z"
        },
        "trusted": true,
        "id": "g74cZnT0Aqks"
      },
      "execution_count": null,
      "outputs": []
    },
    {
      "cell_type": "code",
      "source": [
        "# IID\n",
        "import matplotlib.pyplot as plt\n",
        "plt.figure(figsize=(16,4))\n",
        "plt.subplot(121)\n",
        "plt.plot(list(range(0,len(global_loss_list))), global_loss_list)\n",
        "plt.subplot(122)\n",
        "plt.plot(list(range(0,len(global_acc_list))), global_acc_list)\n",
        "print('IID | total comm rounds', len(global_acc_list))"
      ],
      "metadata": {
        "execution": {
          "iopub.status.busy": "2024-08-12T13:01:58.996543Z",
          "iopub.execute_input": "2024-08-12T13:01:58.996992Z",
          "iopub.status.idle": "2024-08-12T13:01:59.339358Z",
          "shell.execute_reply.started": "2024-08-12T13:01:58.996944Z",
          "shell.execute_reply": "2024-08-12T13:01:59.338329Z"
        },
        "trusted": true,
        "id": "38gaW4e8Aqks"
      },
      "execution_count": null,
      "outputs": []
    },
    {
      "cell_type": "code",
      "source": [
        "iid_df = pd.DataFrame(list(zip(global_acc_list, global_loss_list)), columns =['global_acc_list', 'global_loss_list'])\n",
        "iid_df.to_csv('MNIST_IID.csv',index=False)"
      ],
      "metadata": {
        "execution": {
          "iopub.status.busy": "2024-08-12T13:01:59.340714Z",
          "iopub.execute_input": "2024-08-12T13:01:59.341035Z",
          "iopub.status.idle": "2024-08-12T13:01:59.514926Z",
          "shell.execute_reply.started": "2024-08-12T13:01:59.341002Z",
          "shell.execute_reply": "2024-08-12T13:01:59.513752Z"
        },
        "trusted": true,
        "id": "Hbx_QwcYAqks"
      },
      "execution_count": null,
      "outputs": []
    },
    {
      "cell_type": "markdown",
      "source": [
        "### Non-IID"
      ],
      "metadata": {
        "id": "bp2e_y1MAqks"
      }
    },
    {
      "cell_type": "code",
      "source": [
        "def create_clients(image_list, label_list, num_clients=100, initial='clients'):\n",
        "    ''' return: a dictionary with keys clients' names and value as\n",
        "                data shards - tuple of images and label lists.\n",
        "        args:\n",
        "            image_list: a list of numpy arrays of training images\n",
        "            label_list:a list of binarized labels for each image\n",
        "            num_client: number of fedrated members (clients)\n",
        "            initials: the clients'name prefix, e.g, clients_1\n",
        "\n",
        "    '''\n",
        "\n",
        "    #create a list of client names\n",
        "    client_names = ['{}_{}'.format(initial, i+1) for i in range(num_clients)]\n",
        "\n",
        "    #randomize the data\n",
        "    # data = list(zip(image_list, label_list))\n",
        "    # random.shuffle(data)  # <- IID\n",
        "\n",
        "    # sort data for non-iid\n",
        "    max_y = np.argmax(label_list, axis=-1)\n",
        "    sorted_zip = sorted(zip(max_y, label_list, image_list), key=lambda x: x[0])\n",
        "    data = [(x,y) for _,y,x in sorted_zip]\n",
        "\n",
        "    #shard data and place at each client\n",
        "    size = len(data)//num_clients\n",
        "    shards = [data[i:i + size] for i in range(0, size*num_clients, size)]\n",
        "\n",
        "    #number of clients must equal number of shards\n",
        "    assert(len(shards) == len(client_names))\n",
        "\n",
        "    return {client_names[i] : shards[i] for i in range(len(client_names))}"
      ],
      "metadata": {
        "execution": {
          "iopub.status.busy": "2024-08-12T13:01:59.516465Z",
          "iopub.execute_input": "2024-08-12T13:01:59.516845Z",
          "iopub.status.idle": "2024-08-12T13:01:59.526555Z",
          "shell.execute_reply.started": "2024-08-12T13:01:59.516811Z",
          "shell.execute_reply": "2024-08-12T13:01:59.525473Z"
        },
        "trusted": true,
        "id": "wIrPcUWkAqkt"
      },
      "execution_count": null,
      "outputs": []
    },
    {
      "cell_type": "code",
      "source": [],
      "metadata": {
        "id": "4DoTJUFbAqkt"
      },
      "execution_count": null,
      "outputs": []
    },
    {
      "cell_type": "code",
      "source": [
        "len(X_train), len(X_test), len(y_train), len(y_test)"
      ],
      "metadata": {
        "execution": {
          "iopub.status.busy": "2024-08-12T13:01:59.528074Z",
          "iopub.execute_input": "2024-08-12T13:01:59.528534Z",
          "iopub.status.idle": "2024-08-12T13:01:59.540245Z",
          "shell.execute_reply.started": "2024-08-12T13:01:59.528489Z",
          "shell.execute_reply": "2024-08-12T13:01:59.539273Z"
        },
        "trusted": true,
        "id": "gLDVwgcIAqkt",
        "outputId": "436fe8c9-bb7f-45c8-fbe7-71d343c2e013"
      },
      "execution_count": null,
      "outputs": [
        {
          "execution_count": 18,
          "output_type": "execute_result",
          "data": {
            "text/plain": "(37800, 4200, 37800, 4200)"
          },
          "metadata": {}
        }
      ]
    },
    {
      "cell_type": "code",
      "source": [
        "#create clients\n",
        "clients = create_clients(X_train, y_train, num_clients=100, initial='client')"
      ],
      "metadata": {
        "execution": {
          "iopub.status.busy": "2024-08-12T13:01:59.541634Z",
          "iopub.execute_input": "2024-08-12T13:01:59.541994Z",
          "iopub.status.idle": "2024-08-12T13:01:59.639546Z",
          "shell.execute_reply.started": "2024-08-12T13:01:59.541958Z",
          "shell.execute_reply": "2024-08-12T13:01:59.638667Z"
        },
        "trusted": true,
        "id": "h4kMbr6-Aqkt"
      },
      "execution_count": null,
      "outputs": []
    },
    {
      "cell_type": "code",
      "source": [
        "#process and batch the training data for each client\n",
        "clients_batched = dict()\n",
        "for (client_name, data) in clients.items():\n",
        "    clients_batched[client_name] = batch_data(data)\n",
        "\n",
        "#process and batch the test set\n",
        "test_batched = tf.data.Dataset.from_tensor_slices((X_test, y_test)).batch(len(y_test))"
      ],
      "metadata": {
        "execution": {
          "iopub.status.busy": "2024-08-12T13:01:59.64136Z",
          "iopub.execute_input": "2024-08-12T13:01:59.641663Z",
          "iopub.status.idle": "2024-08-12T13:02:09.169962Z",
          "shell.execute_reply.started": "2024-08-12T13:01:59.641634Z",
          "shell.execute_reply": "2024-08-12T13:02:09.169059Z"
        },
        "trusted": true,
        "id": "GdqwRp5EAqkt"
      },
      "execution_count": null,
      "outputs": []
    },
    {
      "cell_type": "code",
      "source": [
        "lr = 0.01\n",
        "# lr = 0.0001\n",
        "comms_round = 300\n",
        "#loss='categorical_crossentropy'\n",
        "loss = 'binary_crossentropy'\n",
        "metrics = ['accuracy']\n",
        "optimizer = SGD(lr=lr,\n",
        "                decay=lr / comms_round,\n",
        "                momentum=0.9\n",
        "               )"
      ],
      "metadata": {
        "execution": {
          "iopub.status.busy": "2024-08-12T13:02:09.171353Z",
          "iopub.execute_input": "2024-08-12T13:02:09.171683Z",
          "iopub.status.idle": "2024-08-12T13:02:09.176702Z",
          "shell.execute_reply.started": "2024-08-12T13:02:09.171653Z",
          "shell.execute_reply": "2024-08-12T13:02:09.175761Z"
        },
        "trusted": true,
        "id": "qi_Y9X4WAqkt"
      },
      "execution_count": null,
      "outputs": []
    },
    {
      "cell_type": "code",
      "source": [
        "#initialize global model\n",
        "\n",
        "build_shape = 784 #(32, 32, 3)  # 1024 <- CIFAR-10    # 784 # for MNIST # 1024 <- RealAIGI\n",
        "\n",
        "#smlp_global = SimpleMLP()\n",
        "smlp_global = MACNN()\n",
        "global_model = smlp_global.build(build_shape, 10)\n",
        "global_acc_list = []\n",
        "global_loss_list = []"
      ],
      "metadata": {
        "execution": {
          "iopub.status.busy": "2024-08-12T13:02:09.178013Z",
          "iopub.execute_input": "2024-08-12T13:02:09.178362Z",
          "iopub.status.idle": "2024-08-12T13:02:09.222603Z",
          "shell.execute_reply.started": "2024-08-12T13:02:09.178329Z",
          "shell.execute_reply": "2024-08-12T13:02:09.221762Z"
        },
        "trusted": true,
        "id": "ZvaJILOZAqkt"
      },
      "execution_count": null,
      "outputs": []
    },
    {
      "cell_type": "code",
      "source": [
        "#commence global training loop\n",
        "for comm_round in range(comms_round):\n",
        "\n",
        "    # get the global model's weights - will serve as the initial weights for all local models\n",
        "    global_weights = global_model.get_weights()\n",
        "\n",
        "    #initial list to collect local model weights after scalling\n",
        "    scaled_local_weight_list = list()\n",
        "\n",
        "    #randomize client data - using keys\n",
        "    all_client_names = list(clients_batched.keys())\n",
        "\n",
        "    client_names = random.sample(all_client_names, k=10)\n",
        "    random.shuffle(client_names)\n",
        "    if debug:\n",
        "        # print('all_client_names', all_client_names)\n",
        "        print('client_names', client_names)\n",
        "\n",
        "    #loop through each client and create new local model\n",
        "    for client in client_names:\n",
        "        #smlp_local = SimpleMLP()\n",
        "        smlp_global = MACNN()\n",
        "        local_model = smlp_local.build(build_shape, 10)\n",
        "        local_model.compile(loss=loss,\n",
        "                      optimizer=optimizer,\n",
        "                      metrics=metrics)\n",
        "\n",
        "        #set local model weight to the weight of the global model\n",
        "        local_model.set_weights(global_weights)\n",
        "\n",
        "        #fit local model with client's data\n",
        "        local_model.fit(clients_batched[client], epochs=1, verbose=0)\n",
        "\n",
        "        #scale the model weights and add to list\n",
        "        scaling_factor = 0.1 # weight_scalling_factor(clients_batched, client)\n",
        "        scaled_weights = scale_model_weights(local_model.get_weights(), scaling_factor)\n",
        "        scaled_local_weight_list.append(scaled_weights)\n",
        "\n",
        "        #clear session to free memory after each communication round\n",
        "        K.clear_session()\n",
        "\n",
        "    #to get the average over all the local model, we simply take the sum of the scaled weights\n",
        "    average_weights = sum_scaled_weights(scaled_local_weight_list)\n",
        "\n",
        "    #update global model\n",
        "    global_model.set_weights(average_weights)\n",
        "\n",
        "    #test global model and print out metrics after each communications round\n",
        "    for(X_test, Y_test) in test_batched:\n",
        "        global_acc, global_loss = test_model(X_test, Y_test, global_model, comm_round)\n",
        "        global_acc_list.append(global_acc)\n",
        "        global_loss_list.append(global_loss)"
      ],
      "metadata": {
        "execution": {
          "iopub.status.busy": "2024-08-12T13:02:09.223917Z",
          "iopub.execute_input": "2024-08-12T13:02:09.22425Z",
          "iopub.status.idle": "2024-08-12T13:30:04.705693Z",
          "shell.execute_reply.started": "2024-08-12T13:02:09.224204Z",
          "shell.execute_reply": "2024-08-12T13:30:04.704569Z"
        },
        "trusted": true,
        "id": "n1waYhkAAqku"
      },
      "execution_count": null,
      "outputs": []
    },
    {
      "cell_type": "code",
      "source": [
        "# Non-IID\n",
        "import matplotlib.pyplot as plt\n",
        "plt.figure(figsize=(16,4))\n",
        "plt.subplot(121)\n",
        "plt.plot(list(range(0,len(global_loss_list))), global_loss_list)\n",
        "plt.subplot(122)\n",
        "plt.plot(list(range(0,len(global_acc_list))), global_acc_list)\n",
        "print('Non-IID | total comm rounds', len(global_acc_list))"
      ],
      "metadata": {
        "execution": {
          "iopub.status.busy": "2024-08-12T13:30:04.707269Z",
          "iopub.execute_input": "2024-08-12T13:30:04.707634Z",
          "iopub.status.idle": "2024-08-12T13:30:05.049987Z",
          "shell.execute_reply.started": "2024-08-12T13:30:04.707597Z",
          "shell.execute_reply": "2024-08-12T13:30:05.04897Z"
        },
        "trusted": true,
        "id": "YxtwF82MAqku"
      },
      "execution_count": null,
      "outputs": []
    },
    {
      "cell_type": "code",
      "source": [
        "noniid_df = pd.DataFrame(list(zip(global_acc_list, global_loss_list)), columns =['global_acc_list', 'global_loss_list'])\n",
        "noniid_df.to_csv('CIFAR-10_Non-IID.csv',index=False)"
      ],
      "metadata": {
        "execution": {
          "iopub.status.busy": "2024-08-12T13:30:05.051373Z",
          "iopub.execute_input": "2024-08-12T13:30:05.051676Z",
          "iopub.status.idle": "2024-08-12T13:30:05.070376Z",
          "shell.execute_reply.started": "2024-08-12T13:30:05.051646Z",
          "shell.execute_reply": "2024-08-12T13:30:05.069568Z"
        },
        "trusted": true,
        "id": "NGdhb1rUAqku"
      },
      "execution_count": null,
      "outputs": []
    },
    {
      "cell_type": "code",
      "source": [],
      "metadata": {
        "id": "-wB2ZHh5Aqku"
      },
      "execution_count": null,
      "outputs": []
    }
  ]
}