{
  "nbformat": 4,
  "nbformat_minor": 0,
  "metadata": {
    "colab": {
      "private_outputs": true,
      "provenance": [],
      "authorship_tag": "ABX9TyNN9IjeaSiOBsaGHjZvjy1O",
      "include_colab_link": true
    },
    "kernelspec": {
      "name": "python3",
      "display_name": "Python 3"
    },
    "language_info": {
      "name": "python"
    }
  },
  "cells": [
    {
      "cell_type": "markdown",
      "metadata": {
        "id": "view-in-github",
        "colab_type": "text"
      },
      "source": [
        "<a href=\"https://colab.research.google.com/github/mahinuralam/notebooks/blob/main/SSKD.ipynb\" target=\"_parent\"><img src=\"https://colab.research.google.com/assets/colab-badge.svg\" alt=\"Open In Colab\"/></a>"
      ]
    },
    {
      "cell_type": "code",
      "execution_count": null,
      "metadata": {
        "id": "KTVQX27wP_Ph"
      },
      "outputs": [],
      "source": [
        "import numpy as np\n",
        "import matplotlib.pyplot as plt\n",
        "\n",
        "# Sample data (replace these values with your own)\n",
        "frames = np.arange(0, 63)  # e.g., 63 frames\n",
        "inference_times = np.array([\n",
        "    320.0, 335.0, 325.0, 340.0, 330.0, 315.0, 323.0, 337.0, 329.0,\n",
        "    326.0, 331.0, 333.0, 324.0, 339.0, 330.0, 328.0, 325.0, 329.0,\n",
        "    326.0, 331.0, 333.0, 324.0, 339.0, 330.0, 328.0, 325.0, 329.0,\n",
        "    342.0, 335.0, 332.0, 325.0, 319.0, 322.0, 334.0, 328.0, 325.0,\n",
        "    348.0, 335.0, 326.0, 315.0, 322.0, 344.0, 331.0, 350.0, 334.0,\n",
        "    321.0, 320.0, 324.0, 329.0, 328.0, 325.0, 329.0, 333.0, 339.0,\n",
        "    335.0, 328.0, 325.0, 329.0, 339.0, 344.0, 354.0, 380.0, 404.0\n",
        "])\n",
        "\n",
        "min_time = inference_times.min()\n",
        "max_time = inference_times.max()\n",
        "avg_time = inference_times.mean()\n",
        "\n",
        "# Create the plot\n",
        "plt.figure(figsize=(6, 3))\n",
        "plt.plot(frames, inference_times, label='Inference Time', color='tab:blue')\n",
        "\n",
        "# Plot horizontal lines for min, max, and average times\n",
        "plt.axhline(min_time, color='red', linestyle='-', label=f'Min Time: {min_time:.2f} ms')\n",
        "plt.axhline(max_time, color='green', linestyle='-', label=f'Max Time: {max_time:.2f} ms')\n",
        "plt.axhline(avg_time, color='blue', linestyle='--', label=f'Avg Time: {avg_time:.2f} ms')\n",
        "\n",
        "# Labeling the axes\n",
        "plt.xlabel('Frame')\n",
        "plt.ylabel('Time (ms)')\n",
        "# plt.title('Inference Time vs Frame')\n",
        "\n",
        "# Show the legend\n",
        "plt.legend(loc='best')\n",
        "plt.savefig('inference')\n",
        "# Display the plot\n",
        "plt.tight_layout()\n",
        "\n",
        "plt.show()\n",
        "\n",
        "\n"
      ]
    }
  ]
}